{
  "nbformat": 4,
  "nbformat_minor": 0,
  "metadata": {
    "colab": {
      "provenance": [],
      "collapsed_sections": [
        "Hk1VPpM22G7r",
        "SxsaWyepWLGK",
        "PonyxTZMWq_t",
        "NXvIpnVgY3n5",
        "ADkPFv84ZZ2V"
      ],
      "authorship_tag": "ABX9TyMfiri86DhbBTU1nntonPmT",
      "include_colab_link": true
    },
    "kernelspec": {
      "name": "python3",
      "display_name": "Python 3"
    },
    "language_info": {
      "name": "python"
    }
  },
  "cells": [
    {
      "cell_type": "markdown",
      "metadata": {
        "id": "view-in-github",
        "colab_type": "text"
      },
      "source": [
        "<a href=\"https://colab.research.google.com/github/zilves27/PUC/blob/main/PUC_MVP_Sprint_I_An%C3%A1lise_Explorat%C3%B3ria_e_Pr%C3%A9_Processamento_Corrente_Com%C3%A9rcio_Internacional.ipynb\" target=\"_parent\"><img src=\"https://colab.research.google.com/assets/colab-badge.svg\" alt=\"Open In Colab\"/></a>"
      ]
    },
    {
      "cell_type": "markdown",
      "source": [
        "# **MVP 1 - Análise Exploratória e Pré-Processamento - Corrente Comércio Internacional**"
      ],
      "metadata": {
        "id": "wIfh-Mqh2O_h"
      }
    },
    {
      "cell_type": "markdown",
      "source": [
        "#**1 - Definição do problema**"
      ],
      "metadata": {
        "id": "Hk1VPpM22G7r"
      }
    },
    {
      "cell_type": "markdown",
      "source": [
        "O problema consiste em realizar uma análise diagnóstica da Corrente de Comércio do Brasil (exportações e importações) nos últimos 25 anos, traçando também um paralelo da sua representatividade em relação ao PIB do país. A escolha do tema se deu pelo fato que a corrente de comércio é algo extremamente importante, pois avalia a inserção do país no cenário econômico internacional. O paralelo com o PIB traz mais outras duas análises importantes, sendo a primeira para entender qual a representatividade da corrente de comércio no PIB e uma segunda para avaliar se há alguma correlação entre os dados. Essas análises sobre o Comércio Internacional são importantes, pois economias emergentes, como é o caso do Brasil, devem alavancar cada vez essa força motriz de economia, no intuito de expandir seu crescimento, haja vista que nem sempre o próprio país possui capacidade suficiente para consumir tudo o que se produz.\n",
        "\n",
        "O dataset escolhido é de certa forma pequeno, contendo relatos dos últimos 25 anos, como consequência há um limite para 25 linhas, contendo uma seleção de 4 atributos, todos escolhidos tecnicamente e de forma direta com o assunto no qual está sendo abordado. Os atributos escolhidos foram Exportação, Importação, Corrente Comex e PIB. A seguir um detalhamento do que é cada um deles:\n",
        "    \n",
        "    ANO – mostra o ano de referência dos dados;\n",
        "    EXPORTAÇÃO – traz os valores exportados em USD (bilhões) pelo país no ano de referência;\n",
        "    IMPORTAÇÃO – traz os valores importados em USD (bilhões) pelo país no ano de referência;\n",
        "    CORRENTE COMEX – essa é a Corrente de Comércio do país, onde é a soma dos valores de exportação e importação em USD (bilhões) no período de referência;\n",
        "    PIB – o Produto Interno Bruto (PIB) é a soma de tudo o que é produzido por um país, envolvendo não só produção direta, mas também prestação de serviços remunerados. Através do PIB é que se mede a riqueza de um país. Os valores apresentados estão em USD (bilhões);\n",
        "\n",
        "Como destacado no detalhamento dos dados, todos os campos de valores estão em USD, que é a moeda Dólar dos Estados Unidos, pois é a moeda globalmente utilizada para parâmetros métricos econômicos. Isso ajuda bastante, pois de modo geral já traz uniformidade para os reports de todos os dados dos países. Além disso, os mesmo estão apresentados na casa dos bilhões de dólares seguindo uma boa prática, de modo que os números sejam mais fáceis de serem lidos e interpretados posteriormente\n",
        "\n",
        "Os dados apresentados foram extraídos de fontes reconhecidas internacionalmente, o que traz uma confiança maior para os números apresentados.\n",
        "Os dados de Exportação, Importação e Corrente Comex foram todos extraídos do site oficial do governo brasileiro para assuntos relacionados as operações de comércio internacional, que é o Comex Stat. Já os dados de PIB foram extraídos do World Bank, conhecido aqui no Brasil como Banco Mundial, que é uma instituição financeira renomada, na qual atua principalmente no auxílio aos país em desenvolvimento, com financiamentos de projetos para alavancar o crescimento da economia dos mesmos.\n",
        "\n"
      ],
      "metadata": {
        "id": "lSBIQ4-C24im"
      }
    },
    {
      "cell_type": "code",
      "source": [
        "pip install pandas seaborn statsmodels\n"
      ],
      "metadata": {
        "colab": {
          "base_uri": "https://localhost:8080/"
        },
        "id": "zmsdH36MwFWQ",
        "outputId": "55d40c99-021d-4d6d-d393-664565dd920f"
      },
      "execution_count": 64,
      "outputs": [
        {
          "output_type": "stream",
          "name": "stdout",
          "text": [
            "Requirement already satisfied: pandas in /usr/local/lib/python3.10/dist-packages (1.5.3)\n",
            "Requirement already satisfied: seaborn in /usr/local/lib/python3.10/dist-packages (0.12.2)\n",
            "Requirement already satisfied: statsmodels in /usr/local/lib/python3.10/dist-packages (0.14.0)\n",
            "Requirement already satisfied: python-dateutil>=2.8.1 in /usr/local/lib/python3.10/dist-packages (from pandas) (2.8.2)\n",
            "Requirement already satisfied: pytz>=2020.1 in /usr/local/lib/python3.10/dist-packages (from pandas) (2023.3.post1)\n",
            "Requirement already satisfied: numpy>=1.21.0 in /usr/local/lib/python3.10/dist-packages (from pandas) (1.23.5)\n",
            "Requirement already satisfied: matplotlib!=3.6.1,>=3.1 in /usr/local/lib/python3.10/dist-packages (from seaborn) (3.7.1)\n",
            "Requirement already satisfied: scipy!=1.9.2,>=1.4 in /usr/local/lib/python3.10/dist-packages (from statsmodels) (1.11.4)\n",
            "Requirement already satisfied: patsy>=0.5.2 in /usr/local/lib/python3.10/dist-packages (from statsmodels) (0.5.3)\n",
            "Requirement already satisfied: packaging>=21.3 in /usr/local/lib/python3.10/dist-packages (from statsmodels) (23.2)\n",
            "Requirement already satisfied: contourpy>=1.0.1 in /usr/local/lib/python3.10/dist-packages (from matplotlib!=3.6.1,>=3.1->seaborn) (1.2.0)\n",
            "Requirement already satisfied: cycler>=0.10 in /usr/local/lib/python3.10/dist-packages (from matplotlib!=3.6.1,>=3.1->seaborn) (0.12.1)\n",
            "Requirement already satisfied: fonttools>=4.22.0 in /usr/local/lib/python3.10/dist-packages (from matplotlib!=3.6.1,>=3.1->seaborn) (4.45.1)\n",
            "Requirement already satisfied: kiwisolver>=1.0.1 in /usr/local/lib/python3.10/dist-packages (from matplotlib!=3.6.1,>=3.1->seaborn) (1.4.5)\n",
            "Requirement already satisfied: pillow>=6.2.0 in /usr/local/lib/python3.10/dist-packages (from matplotlib!=3.6.1,>=3.1->seaborn) (9.4.0)\n",
            "Requirement already satisfied: pyparsing>=2.3.1 in /usr/local/lib/python3.10/dist-packages (from matplotlib!=3.6.1,>=3.1->seaborn) (3.1.1)\n",
            "Requirement already satisfied: six in /usr/local/lib/python3.10/dist-packages (from patsy>=0.5.2->statsmodels) (1.16.0)\n"
          ]
        }
      ]
    },
    {
      "cell_type": "code",
      "execution_count": 65,
      "metadata": {
        "id": "110ojW2JixBg"
      },
      "outputs": [],
      "source": [
        "import warnings\n",
        "warnings.filterwarnings(\"ignore\")\n",
        "\n",
        "import pandas as pd\n",
        "import seaborn as sns\n",
        "import numpy as np\n",
        "import matplotlib.pyplot as plt\n",
        "import statsmodels.api as sm"
      ]
    },
    {
      "cell_type": "markdown",
      "source": [
        "# **2 - Preparação dos dados**"
      ],
      "metadata": {
        "id": "SxsaWyepWLGK"
      }
    },
    {
      "cell_type": "markdown",
      "source": [
        "Os dados foram carregados através de um arquivo CSV, disponibilizados para conferência no próprio Github através da URL presente no código.\n"
      ],
      "metadata": {
        "id": "O0zJJuB7WfFs"
      }
    },
    {
      "cell_type": "code",
      "source": [
        "# Carregar os dados do arquivo CSV\n",
        "url = \"https://raw.githubusercontent.com/zilves27/PUC/main/corrente_comercio.csv\"\n",
        "df = pd.read_csv(url, delimiter=';')\n",
        "\n",
        "# Visualizar as primeiras linhas do DataFrame\n",
        "print(df.head())"
      ],
      "metadata": {
        "id": "5yZ6X525vOhg",
        "colab": {
          "base_uri": "https://localhost:8080/"
        },
        "outputId": "599c3d7e-061f-491e-d71d-7d9e4b7d4931"
      },
      "execution_count": 66,
      "outputs": [
        {
          "output_type": "stream",
          "name": "stdout",
          "text": [
            "    ANO  EXPORTAÇÃO  IMPORTAÇÃO  CORRENTE COMEX      PIB\n",
            "0  2022      334.14      272.61          606.75  1920.10\n",
            "1  2021      280.81      219.41          500.22  1649.62\n",
            "2  2020      209.18      158.79          367.97  1476.11\n",
            "3  2019      221.13      185.93          407.05  1873.29\n",
            "4  2018      231.89      185.32          417.21  1916.93\n"
          ]
        }
      ]
    },
    {
      "cell_type": "markdown",
      "source": [
        "# **3 - Análise dos Dados - Avaliar**"
      ],
      "metadata": {
        "id": "PonyxTZMWq_t"
      }
    },
    {
      "cell_type": "markdown",
      "source": [
        "**3.1 - Estatística Descritiva**"
      ],
      "metadata": {
        "id": "Lwa_o_LfXAmJ"
      }
    },
    {
      "cell_type": "code",
      "source": [
        "# Analisar Dimensão do DataFrame\n",
        "print(df.shape)"
      ],
      "metadata": {
        "colab": {
          "base_uri": "https://localhost:8080/"
        },
        "id": "YkvWtZ-vErMY",
        "outputId": "18dcc2c6-f368-48d7-a422-08ea075640c4"
      },
      "execution_count": 67,
      "outputs": [
        {
          "output_type": "stream",
          "name": "stdout",
          "text": [
            "(25, 5)\n"
          ]
        }
      ]
    },
    {
      "cell_type": "markdown",
      "source": [
        "  Ação executada apenas no intuito de validar o conhecimento, uma vez que já havia sindo informado que essa análise teria como base a Corrente de Comércio de Brasil nos últimos 25 anos."
      ],
      "metadata": {
        "id": "AaU-o9zRPoW_"
      }
    },
    {
      "cell_type": "code",
      "metadata": {
        "id": "UUjmUTEOwQZt",
        "colab": {
          "base_uri": "https://localhost:8080/"
        },
        "outputId": "420c3c4b-101d-471e-c8ef-b58fb5e52905"
      },
      "source": [
        "# Mostra as informações do dataset\n",
        "print(df.info())"
      ],
      "execution_count": 68,
      "outputs": [
        {
          "output_type": "stream",
          "name": "stdout",
          "text": [
            "<class 'pandas.core.frame.DataFrame'>\n",
            "RangeIndex: 25 entries, 0 to 24\n",
            "Data columns (total 5 columns):\n",
            " #   Column          Non-Null Count  Dtype  \n",
            "---  ------          --------------  -----  \n",
            " 0   ANO             25 non-null     int64  \n",
            " 1   EXPORTAÇÃO      25 non-null     float64\n",
            " 2   IMPORTAÇÃO      25 non-null     float64\n",
            " 3   CORRENTE COMEX  25 non-null     float64\n",
            " 4   PIB             25 non-null     float64\n",
            "dtypes: float64(4), int64(1)\n",
            "memory usage: 1.1 KB\n",
            "None\n"
          ]
        }
      ]
    },
    {
      "cell_type": "markdown",
      "source": [
        "  Podemos constatar que não há valores nulos no dataset, além de serem todos dados numéricos. De fato isso já era esperado, uma vez que estamos lidando com dados oficiais do governo, o que não permite valores diferentes de números e tampouco nulos. De qualquer modo, foi mais uma ação executada para validação de conhecimento e comprovação do que já era esperado."
      ],
      "metadata": {
        "id": "ODKa_GH-QxKB"
      }
    },
    {
      "cell_type": "code",
      "metadata": {
        "id": "yPy9N4FuwX6H",
        "colab": {
          "base_uri": "https://localhost:8080/",
          "height": 0
        },
        "outputId": "383725f2-e67c-4038-b14f-f18d62f0d360"
      },
      "source": [
        "# Mostra as todas as linhas do dataset\n",
        "df.head(25)"
      ],
      "execution_count": 69,
      "outputs": [
        {
          "output_type": "execute_result",
          "data": {
            "text/plain": [
              "     ANO  EXPORTAÇÃO  IMPORTAÇÃO  CORRENTE COMEX      PIB\n",
              "0   2022      334.14      272.61          606.75  1920.10\n",
              "1   2021      280.81      219.41          500.22  1649.62\n",
              "2   2020      209.18      158.79          367.97  1476.11\n",
              "3   2019      221.13      185.93          407.05  1873.29\n",
              "4   2018      231.89      185.32          417.21  1916.93\n",
              "5   2017      214.99      158.95          373.94  2063.51\n",
              "6   2016      179.53      139.32          318.85  1795.69\n",
              "7   2015      186.78      173.10          359.89  1802.21\n",
              "8   2014      220.92      230.82          451.75  2456.04\n",
              "9   2013      232.54      241.50          474.05  2472.82\n",
              "10  2012      239.95      225.17          465.12  2465.23\n",
              "11  2011      253.67      227.97          481.64  2616.16\n",
              "12  2010      200.43      183.34          383.77  2208.84\n",
              "13  2009      151.79      129.40          281.19  1667.00\n",
              "14  2008      195.76      174.71          370.47  1695.86\n",
              "15  2007      159.82      122.04          281.86  1397.11\n",
              "16  2006      137.58       92.53          230.11  1107.63\n",
              "17  2005      118.60       74.69          193.29   891.63\n",
              "18  2004       95.12       63.81          158.94   669.29\n",
              "19  2003       72.78       49.31          122.08   558.23\n",
              "20  2002       60.15       48.27          108.42   509.80\n",
              "21  2001       58.03       56.57          114.60   559.98\n",
              "22  2000       54.99       56.98          111.97   655.45\n",
              "23  1999       47.95       50.26           98.21   599.64\n",
              "24  1998       51.08       58.67          109.75   863.71"
            ],
            "text/html": [
              "\n",
              "  <div id=\"df-7539be92-4070-4c47-a705-1f0ae6077e2b\" class=\"colab-df-container\">\n",
              "    <div>\n",
              "<style scoped>\n",
              "    .dataframe tbody tr th:only-of-type {\n",
              "        vertical-align: middle;\n",
              "    }\n",
              "\n",
              "    .dataframe tbody tr th {\n",
              "        vertical-align: top;\n",
              "    }\n",
              "\n",
              "    .dataframe thead th {\n",
              "        text-align: right;\n",
              "    }\n",
              "</style>\n",
              "<table border=\"1\" class=\"dataframe\">\n",
              "  <thead>\n",
              "    <tr style=\"text-align: right;\">\n",
              "      <th></th>\n",
              "      <th>ANO</th>\n",
              "      <th>EXPORTAÇÃO</th>\n",
              "      <th>IMPORTAÇÃO</th>\n",
              "      <th>CORRENTE COMEX</th>\n",
              "      <th>PIB</th>\n",
              "    </tr>\n",
              "  </thead>\n",
              "  <tbody>\n",
              "    <tr>\n",
              "      <th>0</th>\n",
              "      <td>2022</td>\n",
              "      <td>334.14</td>\n",
              "      <td>272.61</td>\n",
              "      <td>606.75</td>\n",
              "      <td>1920.10</td>\n",
              "    </tr>\n",
              "    <tr>\n",
              "      <th>1</th>\n",
              "      <td>2021</td>\n",
              "      <td>280.81</td>\n",
              "      <td>219.41</td>\n",
              "      <td>500.22</td>\n",
              "      <td>1649.62</td>\n",
              "    </tr>\n",
              "    <tr>\n",
              "      <th>2</th>\n",
              "      <td>2020</td>\n",
              "      <td>209.18</td>\n",
              "      <td>158.79</td>\n",
              "      <td>367.97</td>\n",
              "      <td>1476.11</td>\n",
              "    </tr>\n",
              "    <tr>\n",
              "      <th>3</th>\n",
              "      <td>2019</td>\n",
              "      <td>221.13</td>\n",
              "      <td>185.93</td>\n",
              "      <td>407.05</td>\n",
              "      <td>1873.29</td>\n",
              "    </tr>\n",
              "    <tr>\n",
              "      <th>4</th>\n",
              "      <td>2018</td>\n",
              "      <td>231.89</td>\n",
              "      <td>185.32</td>\n",
              "      <td>417.21</td>\n",
              "      <td>1916.93</td>\n",
              "    </tr>\n",
              "    <tr>\n",
              "      <th>5</th>\n",
              "      <td>2017</td>\n",
              "      <td>214.99</td>\n",
              "      <td>158.95</td>\n",
              "      <td>373.94</td>\n",
              "      <td>2063.51</td>\n",
              "    </tr>\n",
              "    <tr>\n",
              "      <th>6</th>\n",
              "      <td>2016</td>\n",
              "      <td>179.53</td>\n",
              "      <td>139.32</td>\n",
              "      <td>318.85</td>\n",
              "      <td>1795.69</td>\n",
              "    </tr>\n",
              "    <tr>\n",
              "      <th>7</th>\n",
              "      <td>2015</td>\n",
              "      <td>186.78</td>\n",
              "      <td>173.10</td>\n",
              "      <td>359.89</td>\n",
              "      <td>1802.21</td>\n",
              "    </tr>\n",
              "    <tr>\n",
              "      <th>8</th>\n",
              "      <td>2014</td>\n",
              "      <td>220.92</td>\n",
              "      <td>230.82</td>\n",
              "      <td>451.75</td>\n",
              "      <td>2456.04</td>\n",
              "    </tr>\n",
              "    <tr>\n",
              "      <th>9</th>\n",
              "      <td>2013</td>\n",
              "      <td>232.54</td>\n",
              "      <td>241.50</td>\n",
              "      <td>474.05</td>\n",
              "      <td>2472.82</td>\n",
              "    </tr>\n",
              "    <tr>\n",
              "      <th>10</th>\n",
              "      <td>2012</td>\n",
              "      <td>239.95</td>\n",
              "      <td>225.17</td>\n",
              "      <td>465.12</td>\n",
              "      <td>2465.23</td>\n",
              "    </tr>\n",
              "    <tr>\n",
              "      <th>11</th>\n",
              "      <td>2011</td>\n",
              "      <td>253.67</td>\n",
              "      <td>227.97</td>\n",
              "      <td>481.64</td>\n",
              "      <td>2616.16</td>\n",
              "    </tr>\n",
              "    <tr>\n",
              "      <th>12</th>\n",
              "      <td>2010</td>\n",
              "      <td>200.43</td>\n",
              "      <td>183.34</td>\n",
              "      <td>383.77</td>\n",
              "      <td>2208.84</td>\n",
              "    </tr>\n",
              "    <tr>\n",
              "      <th>13</th>\n",
              "      <td>2009</td>\n",
              "      <td>151.79</td>\n",
              "      <td>129.40</td>\n",
              "      <td>281.19</td>\n",
              "      <td>1667.00</td>\n",
              "    </tr>\n",
              "    <tr>\n",
              "      <th>14</th>\n",
              "      <td>2008</td>\n",
              "      <td>195.76</td>\n",
              "      <td>174.71</td>\n",
              "      <td>370.47</td>\n",
              "      <td>1695.86</td>\n",
              "    </tr>\n",
              "    <tr>\n",
              "      <th>15</th>\n",
              "      <td>2007</td>\n",
              "      <td>159.82</td>\n",
              "      <td>122.04</td>\n",
              "      <td>281.86</td>\n",
              "      <td>1397.11</td>\n",
              "    </tr>\n",
              "    <tr>\n",
              "      <th>16</th>\n",
              "      <td>2006</td>\n",
              "      <td>137.58</td>\n",
              "      <td>92.53</td>\n",
              "      <td>230.11</td>\n",
              "      <td>1107.63</td>\n",
              "    </tr>\n",
              "    <tr>\n",
              "      <th>17</th>\n",
              "      <td>2005</td>\n",
              "      <td>118.60</td>\n",
              "      <td>74.69</td>\n",
              "      <td>193.29</td>\n",
              "      <td>891.63</td>\n",
              "    </tr>\n",
              "    <tr>\n",
              "      <th>18</th>\n",
              "      <td>2004</td>\n",
              "      <td>95.12</td>\n",
              "      <td>63.81</td>\n",
              "      <td>158.94</td>\n",
              "      <td>669.29</td>\n",
              "    </tr>\n",
              "    <tr>\n",
              "      <th>19</th>\n",
              "      <td>2003</td>\n",
              "      <td>72.78</td>\n",
              "      <td>49.31</td>\n",
              "      <td>122.08</td>\n",
              "      <td>558.23</td>\n",
              "    </tr>\n",
              "    <tr>\n",
              "      <th>20</th>\n",
              "      <td>2002</td>\n",
              "      <td>60.15</td>\n",
              "      <td>48.27</td>\n",
              "      <td>108.42</td>\n",
              "      <td>509.80</td>\n",
              "    </tr>\n",
              "    <tr>\n",
              "      <th>21</th>\n",
              "      <td>2001</td>\n",
              "      <td>58.03</td>\n",
              "      <td>56.57</td>\n",
              "      <td>114.60</td>\n",
              "      <td>559.98</td>\n",
              "    </tr>\n",
              "    <tr>\n",
              "      <th>22</th>\n",
              "      <td>2000</td>\n",
              "      <td>54.99</td>\n",
              "      <td>56.98</td>\n",
              "      <td>111.97</td>\n",
              "      <td>655.45</td>\n",
              "    </tr>\n",
              "    <tr>\n",
              "      <th>23</th>\n",
              "      <td>1999</td>\n",
              "      <td>47.95</td>\n",
              "      <td>50.26</td>\n",
              "      <td>98.21</td>\n",
              "      <td>599.64</td>\n",
              "    </tr>\n",
              "    <tr>\n",
              "      <th>24</th>\n",
              "      <td>1998</td>\n",
              "      <td>51.08</td>\n",
              "      <td>58.67</td>\n",
              "      <td>109.75</td>\n",
              "      <td>863.71</td>\n",
              "    </tr>\n",
              "  </tbody>\n",
              "</table>\n",
              "</div>\n",
              "    <div class=\"colab-df-buttons\">\n",
              "\n",
              "  <div class=\"colab-df-container\">\n",
              "    <button class=\"colab-df-convert\" onclick=\"convertToInteractive('df-7539be92-4070-4c47-a705-1f0ae6077e2b')\"\n",
              "            title=\"Convert this dataframe to an interactive table.\"\n",
              "            style=\"display:none;\">\n",
              "\n",
              "  <svg xmlns=\"http://www.w3.org/2000/svg\" height=\"24px\" viewBox=\"0 -960 960 960\">\n",
              "    <path d=\"M120-120v-720h720v720H120Zm60-500h600v-160H180v160Zm220 220h160v-160H400v160Zm0 220h160v-160H400v160ZM180-400h160v-160H180v160Zm440 0h160v-160H620v160ZM180-180h160v-160H180v160Zm440 0h160v-160H620v160Z\"/>\n",
              "  </svg>\n",
              "    </button>\n",
              "\n",
              "  <style>\n",
              "    .colab-df-container {\n",
              "      display:flex;\n",
              "      gap: 12px;\n",
              "    }\n",
              "\n",
              "    .colab-df-convert {\n",
              "      background-color: #E8F0FE;\n",
              "      border: none;\n",
              "      border-radius: 50%;\n",
              "      cursor: pointer;\n",
              "      display: none;\n",
              "      fill: #1967D2;\n",
              "      height: 32px;\n",
              "      padding: 0 0 0 0;\n",
              "      width: 32px;\n",
              "    }\n",
              "\n",
              "    .colab-df-convert:hover {\n",
              "      background-color: #E2EBFA;\n",
              "      box-shadow: 0px 1px 2px rgba(60, 64, 67, 0.3), 0px 1px 3px 1px rgba(60, 64, 67, 0.15);\n",
              "      fill: #174EA6;\n",
              "    }\n",
              "\n",
              "    .colab-df-buttons div {\n",
              "      margin-bottom: 4px;\n",
              "    }\n",
              "\n",
              "    [theme=dark] .colab-df-convert {\n",
              "      background-color: #3B4455;\n",
              "      fill: #D2E3FC;\n",
              "    }\n",
              "\n",
              "    [theme=dark] .colab-df-convert:hover {\n",
              "      background-color: #434B5C;\n",
              "      box-shadow: 0px 1px 3px 1px rgba(0, 0, 0, 0.15);\n",
              "      filter: drop-shadow(0px 1px 2px rgba(0, 0, 0, 0.3));\n",
              "      fill: #FFFFFF;\n",
              "    }\n",
              "  </style>\n",
              "\n",
              "    <script>\n",
              "      const buttonEl =\n",
              "        document.querySelector('#df-7539be92-4070-4c47-a705-1f0ae6077e2b button.colab-df-convert');\n",
              "      buttonEl.style.display =\n",
              "        google.colab.kernel.accessAllowed ? 'block' : 'none';\n",
              "\n",
              "      async function convertToInteractive(key) {\n",
              "        const element = document.querySelector('#df-7539be92-4070-4c47-a705-1f0ae6077e2b');\n",
              "        const dataTable =\n",
              "          await google.colab.kernel.invokeFunction('convertToInteractive',\n",
              "                                                    [key], {});\n",
              "        if (!dataTable) return;\n",
              "\n",
              "        const docLinkHtml = 'Like what you see? Visit the ' +\n",
              "          '<a target=\"_blank\" href=https://colab.research.google.com/notebooks/data_table.ipynb>data table notebook</a>'\n",
              "          + ' to learn more about interactive tables.';\n",
              "        element.innerHTML = '';\n",
              "        dataTable['output_type'] = 'display_data';\n",
              "        await google.colab.output.renderOutput(dataTable, element);\n",
              "        const docLink = document.createElement('div');\n",
              "        docLink.innerHTML = docLinkHtml;\n",
              "        element.appendChild(docLink);\n",
              "      }\n",
              "    </script>\n",
              "  </div>\n",
              "\n",
              "\n",
              "<div id=\"df-114321f8-1f69-4a90-bc8a-96dc094a382e\">\n",
              "  <button class=\"colab-df-quickchart\" onclick=\"quickchart('df-114321f8-1f69-4a90-bc8a-96dc094a382e')\"\n",
              "            title=\"Suggest charts\"\n",
              "            style=\"display:none;\">\n",
              "\n",
              "<svg xmlns=\"http://www.w3.org/2000/svg\" height=\"24px\"viewBox=\"0 0 24 24\"\n",
              "     width=\"24px\">\n",
              "    <g>\n",
              "        <path d=\"M19 3H5c-1.1 0-2 .9-2 2v14c0 1.1.9 2 2 2h14c1.1 0 2-.9 2-2V5c0-1.1-.9-2-2-2zM9 17H7v-7h2v7zm4 0h-2V7h2v10zm4 0h-2v-4h2v4z\"/>\n",
              "    </g>\n",
              "</svg>\n",
              "  </button>\n",
              "\n",
              "<style>\n",
              "  .colab-df-quickchart {\n",
              "      --bg-color: #E8F0FE;\n",
              "      --fill-color: #1967D2;\n",
              "      --hover-bg-color: #E2EBFA;\n",
              "      --hover-fill-color: #174EA6;\n",
              "      --disabled-fill-color: #AAA;\n",
              "      --disabled-bg-color: #DDD;\n",
              "  }\n",
              "\n",
              "  [theme=dark] .colab-df-quickchart {\n",
              "      --bg-color: #3B4455;\n",
              "      --fill-color: #D2E3FC;\n",
              "      --hover-bg-color: #434B5C;\n",
              "      --hover-fill-color: #FFFFFF;\n",
              "      --disabled-bg-color: #3B4455;\n",
              "      --disabled-fill-color: #666;\n",
              "  }\n",
              "\n",
              "  .colab-df-quickchart {\n",
              "    background-color: var(--bg-color);\n",
              "    border: none;\n",
              "    border-radius: 50%;\n",
              "    cursor: pointer;\n",
              "    display: none;\n",
              "    fill: var(--fill-color);\n",
              "    height: 32px;\n",
              "    padding: 0;\n",
              "    width: 32px;\n",
              "  }\n",
              "\n",
              "  .colab-df-quickchart:hover {\n",
              "    background-color: var(--hover-bg-color);\n",
              "    box-shadow: 0 1px 2px rgba(60, 64, 67, 0.3), 0 1px 3px 1px rgba(60, 64, 67, 0.15);\n",
              "    fill: var(--button-hover-fill-color);\n",
              "  }\n",
              "\n",
              "  .colab-df-quickchart-complete:disabled,\n",
              "  .colab-df-quickchart-complete:disabled:hover {\n",
              "    background-color: var(--disabled-bg-color);\n",
              "    fill: var(--disabled-fill-color);\n",
              "    box-shadow: none;\n",
              "  }\n",
              "\n",
              "  .colab-df-spinner {\n",
              "    border: 2px solid var(--fill-color);\n",
              "    border-color: transparent;\n",
              "    border-bottom-color: var(--fill-color);\n",
              "    animation:\n",
              "      spin 1s steps(1) infinite;\n",
              "  }\n",
              "\n",
              "  @keyframes spin {\n",
              "    0% {\n",
              "      border-color: transparent;\n",
              "      border-bottom-color: var(--fill-color);\n",
              "      border-left-color: var(--fill-color);\n",
              "    }\n",
              "    20% {\n",
              "      border-color: transparent;\n",
              "      border-left-color: var(--fill-color);\n",
              "      border-top-color: var(--fill-color);\n",
              "    }\n",
              "    30% {\n",
              "      border-color: transparent;\n",
              "      border-left-color: var(--fill-color);\n",
              "      border-top-color: var(--fill-color);\n",
              "      border-right-color: var(--fill-color);\n",
              "    }\n",
              "    40% {\n",
              "      border-color: transparent;\n",
              "      border-right-color: var(--fill-color);\n",
              "      border-top-color: var(--fill-color);\n",
              "    }\n",
              "    60% {\n",
              "      border-color: transparent;\n",
              "      border-right-color: var(--fill-color);\n",
              "    }\n",
              "    80% {\n",
              "      border-color: transparent;\n",
              "      border-right-color: var(--fill-color);\n",
              "      border-bottom-color: var(--fill-color);\n",
              "    }\n",
              "    90% {\n",
              "      border-color: transparent;\n",
              "      border-bottom-color: var(--fill-color);\n",
              "    }\n",
              "  }\n",
              "</style>\n",
              "\n",
              "  <script>\n",
              "    async function quickchart(key) {\n",
              "      const quickchartButtonEl =\n",
              "        document.querySelector('#' + key + ' button');\n",
              "      quickchartButtonEl.disabled = true;  // To prevent multiple clicks.\n",
              "      quickchartButtonEl.classList.add('colab-df-spinner');\n",
              "      try {\n",
              "        const charts = await google.colab.kernel.invokeFunction(\n",
              "            'suggestCharts', [key], {});\n",
              "      } catch (error) {\n",
              "        console.error('Error during call to suggestCharts:', error);\n",
              "      }\n",
              "      quickchartButtonEl.classList.remove('colab-df-spinner');\n",
              "      quickchartButtonEl.classList.add('colab-df-quickchart-complete');\n",
              "    }\n",
              "    (() => {\n",
              "      let quickchartButtonEl =\n",
              "        document.querySelector('#df-114321f8-1f69-4a90-bc8a-96dc094a382e button');\n",
              "      quickchartButtonEl.style.display =\n",
              "        google.colab.kernel.accessAllowed ? 'block' : 'none';\n",
              "    })();\n",
              "  </script>\n",
              "</div>\n",
              "    </div>\n",
              "  </div>\n"
            ]
          },
          "metadata": {},
          "execution_count": 69
        }
      ]
    },
    {
      "cell_type": "markdown",
      "source": [
        "  Por ser um dataset pequeno, não faria sentido mostrar algumas linhas do início e outras do final. Desse modo, otimizamos etapas, enxugando o código, mas também reafirmando que é sim de conhecimento como uma boa prática a exibição de algumas linhas do dataset como exemplo de visualização."
      ],
      "metadata": {
        "id": "932qMSyiTT8i"
      }
    },
    {
      "cell_type": "code",
      "metadata": {
        "id": "7NKdYewownzG",
        "colab": {
          "base_uri": "https://localhost:8080/",
          "height": 0
        },
        "outputId": "b0894e1a-1564-4b87-ae6c-76e1b6e56dce"
      },
      "source": [
        "# Calcular dados básicos para uma análise descritiva, tais como média, desvio padrão, mínimo, máximo e quartis\n",
        "df.describe()"
      ],
      "execution_count": 70,
      "outputs": [
        {
          "output_type": "execute_result",
          "data": {
            "text/plain": [
              "               ANO  EXPORTAÇÃO  IMPORTAÇÃO  CORRENTE COMEX          PIB\n",
              "count    25.000000   25.000000   25.000000       25.000000    25.000000\n",
              "mean   2010.000000  168.384400  143.178800      311.564000  1515.675200\n",
              "std       7.359801   80.512901   71.924493      151.035825   692.637912\n",
              "min    1998.000000   47.950000   48.270000       98.210000   509.800000\n",
              "25%    2004.000000   95.120000   63.810000      158.940000   863.710000\n",
              "50%    2010.000000  186.780000  158.790000      359.890000  1667.000000\n",
              "75%    2016.000000  221.130000  185.930000      417.210000  1920.100000\n",
              "max    2022.000000  334.140000  272.610000      606.750000  2616.160000"
            ],
            "text/html": [
              "\n",
              "  <div id=\"df-87932d61-7ec1-481a-b9e3-99166794be78\" class=\"colab-df-container\">\n",
              "    <div>\n",
              "<style scoped>\n",
              "    .dataframe tbody tr th:only-of-type {\n",
              "        vertical-align: middle;\n",
              "    }\n",
              "\n",
              "    .dataframe tbody tr th {\n",
              "        vertical-align: top;\n",
              "    }\n",
              "\n",
              "    .dataframe thead th {\n",
              "        text-align: right;\n",
              "    }\n",
              "</style>\n",
              "<table border=\"1\" class=\"dataframe\">\n",
              "  <thead>\n",
              "    <tr style=\"text-align: right;\">\n",
              "      <th></th>\n",
              "      <th>ANO</th>\n",
              "      <th>EXPORTAÇÃO</th>\n",
              "      <th>IMPORTAÇÃO</th>\n",
              "      <th>CORRENTE COMEX</th>\n",
              "      <th>PIB</th>\n",
              "    </tr>\n",
              "  </thead>\n",
              "  <tbody>\n",
              "    <tr>\n",
              "      <th>count</th>\n",
              "      <td>25.000000</td>\n",
              "      <td>25.000000</td>\n",
              "      <td>25.000000</td>\n",
              "      <td>25.000000</td>\n",
              "      <td>25.000000</td>\n",
              "    </tr>\n",
              "    <tr>\n",
              "      <th>mean</th>\n",
              "      <td>2010.000000</td>\n",
              "      <td>168.384400</td>\n",
              "      <td>143.178800</td>\n",
              "      <td>311.564000</td>\n",
              "      <td>1515.675200</td>\n",
              "    </tr>\n",
              "    <tr>\n",
              "      <th>std</th>\n",
              "      <td>7.359801</td>\n",
              "      <td>80.512901</td>\n",
              "      <td>71.924493</td>\n",
              "      <td>151.035825</td>\n",
              "      <td>692.637912</td>\n",
              "    </tr>\n",
              "    <tr>\n",
              "      <th>min</th>\n",
              "      <td>1998.000000</td>\n",
              "      <td>47.950000</td>\n",
              "      <td>48.270000</td>\n",
              "      <td>98.210000</td>\n",
              "      <td>509.800000</td>\n",
              "    </tr>\n",
              "    <tr>\n",
              "      <th>25%</th>\n",
              "      <td>2004.000000</td>\n",
              "      <td>95.120000</td>\n",
              "      <td>63.810000</td>\n",
              "      <td>158.940000</td>\n",
              "      <td>863.710000</td>\n",
              "    </tr>\n",
              "    <tr>\n",
              "      <th>50%</th>\n",
              "      <td>2010.000000</td>\n",
              "      <td>186.780000</td>\n",
              "      <td>158.790000</td>\n",
              "      <td>359.890000</td>\n",
              "      <td>1667.000000</td>\n",
              "    </tr>\n",
              "    <tr>\n",
              "      <th>75%</th>\n",
              "      <td>2016.000000</td>\n",
              "      <td>221.130000</td>\n",
              "      <td>185.930000</td>\n",
              "      <td>417.210000</td>\n",
              "      <td>1920.100000</td>\n",
              "    </tr>\n",
              "    <tr>\n",
              "      <th>max</th>\n",
              "      <td>2022.000000</td>\n",
              "      <td>334.140000</td>\n",
              "      <td>272.610000</td>\n",
              "      <td>606.750000</td>\n",
              "      <td>2616.160000</td>\n",
              "    </tr>\n",
              "  </tbody>\n",
              "</table>\n",
              "</div>\n",
              "    <div class=\"colab-df-buttons\">\n",
              "\n",
              "  <div class=\"colab-df-container\">\n",
              "    <button class=\"colab-df-convert\" onclick=\"convertToInteractive('df-87932d61-7ec1-481a-b9e3-99166794be78')\"\n",
              "            title=\"Convert this dataframe to an interactive table.\"\n",
              "            style=\"display:none;\">\n",
              "\n",
              "  <svg xmlns=\"http://www.w3.org/2000/svg\" height=\"24px\" viewBox=\"0 -960 960 960\">\n",
              "    <path d=\"M120-120v-720h720v720H120Zm60-500h600v-160H180v160Zm220 220h160v-160H400v160Zm0 220h160v-160H400v160ZM180-400h160v-160H180v160Zm440 0h160v-160H620v160ZM180-180h160v-160H180v160Zm440 0h160v-160H620v160Z\"/>\n",
              "  </svg>\n",
              "    </button>\n",
              "\n",
              "  <style>\n",
              "    .colab-df-container {\n",
              "      display:flex;\n",
              "      gap: 12px;\n",
              "    }\n",
              "\n",
              "    .colab-df-convert {\n",
              "      background-color: #E8F0FE;\n",
              "      border: none;\n",
              "      border-radius: 50%;\n",
              "      cursor: pointer;\n",
              "      display: none;\n",
              "      fill: #1967D2;\n",
              "      height: 32px;\n",
              "      padding: 0 0 0 0;\n",
              "      width: 32px;\n",
              "    }\n",
              "\n",
              "    .colab-df-convert:hover {\n",
              "      background-color: #E2EBFA;\n",
              "      box-shadow: 0px 1px 2px rgba(60, 64, 67, 0.3), 0px 1px 3px 1px rgba(60, 64, 67, 0.15);\n",
              "      fill: #174EA6;\n",
              "    }\n",
              "\n",
              "    .colab-df-buttons div {\n",
              "      margin-bottom: 4px;\n",
              "    }\n",
              "\n",
              "    [theme=dark] .colab-df-convert {\n",
              "      background-color: #3B4455;\n",
              "      fill: #D2E3FC;\n",
              "    }\n",
              "\n",
              "    [theme=dark] .colab-df-convert:hover {\n",
              "      background-color: #434B5C;\n",
              "      box-shadow: 0px 1px 3px 1px rgba(0, 0, 0, 0.15);\n",
              "      filter: drop-shadow(0px 1px 2px rgba(0, 0, 0, 0.3));\n",
              "      fill: #FFFFFF;\n",
              "    }\n",
              "  </style>\n",
              "\n",
              "    <script>\n",
              "      const buttonEl =\n",
              "        document.querySelector('#df-87932d61-7ec1-481a-b9e3-99166794be78 button.colab-df-convert');\n",
              "      buttonEl.style.display =\n",
              "        google.colab.kernel.accessAllowed ? 'block' : 'none';\n",
              "\n",
              "      async function convertToInteractive(key) {\n",
              "        const element = document.querySelector('#df-87932d61-7ec1-481a-b9e3-99166794be78');\n",
              "        const dataTable =\n",
              "          await google.colab.kernel.invokeFunction('convertToInteractive',\n",
              "                                                    [key], {});\n",
              "        if (!dataTable) return;\n",
              "\n",
              "        const docLinkHtml = 'Like what you see? Visit the ' +\n",
              "          '<a target=\"_blank\" href=https://colab.research.google.com/notebooks/data_table.ipynb>data table notebook</a>'\n",
              "          + ' to learn more about interactive tables.';\n",
              "        element.innerHTML = '';\n",
              "        dataTable['output_type'] = 'display_data';\n",
              "        await google.colab.output.renderOutput(dataTable, element);\n",
              "        const docLink = document.createElement('div');\n",
              "        docLink.innerHTML = docLinkHtml;\n",
              "        element.appendChild(docLink);\n",
              "      }\n",
              "    </script>\n",
              "  </div>\n",
              "\n",
              "\n",
              "<div id=\"df-b1f8a9d1-fc0c-41fc-8abc-e8c8b1f0c18e\">\n",
              "  <button class=\"colab-df-quickchart\" onclick=\"quickchart('df-b1f8a9d1-fc0c-41fc-8abc-e8c8b1f0c18e')\"\n",
              "            title=\"Suggest charts\"\n",
              "            style=\"display:none;\">\n",
              "\n",
              "<svg xmlns=\"http://www.w3.org/2000/svg\" height=\"24px\"viewBox=\"0 0 24 24\"\n",
              "     width=\"24px\">\n",
              "    <g>\n",
              "        <path d=\"M19 3H5c-1.1 0-2 .9-2 2v14c0 1.1.9 2 2 2h14c1.1 0 2-.9 2-2V5c0-1.1-.9-2-2-2zM9 17H7v-7h2v7zm4 0h-2V7h2v10zm4 0h-2v-4h2v4z\"/>\n",
              "    </g>\n",
              "</svg>\n",
              "  </button>\n",
              "\n",
              "<style>\n",
              "  .colab-df-quickchart {\n",
              "      --bg-color: #E8F0FE;\n",
              "      --fill-color: #1967D2;\n",
              "      --hover-bg-color: #E2EBFA;\n",
              "      --hover-fill-color: #174EA6;\n",
              "      --disabled-fill-color: #AAA;\n",
              "      --disabled-bg-color: #DDD;\n",
              "  }\n",
              "\n",
              "  [theme=dark] .colab-df-quickchart {\n",
              "      --bg-color: #3B4455;\n",
              "      --fill-color: #D2E3FC;\n",
              "      --hover-bg-color: #434B5C;\n",
              "      --hover-fill-color: #FFFFFF;\n",
              "      --disabled-bg-color: #3B4455;\n",
              "      --disabled-fill-color: #666;\n",
              "  }\n",
              "\n",
              "  .colab-df-quickchart {\n",
              "    background-color: var(--bg-color);\n",
              "    border: none;\n",
              "    border-radius: 50%;\n",
              "    cursor: pointer;\n",
              "    display: none;\n",
              "    fill: var(--fill-color);\n",
              "    height: 32px;\n",
              "    padding: 0;\n",
              "    width: 32px;\n",
              "  }\n",
              "\n",
              "  .colab-df-quickchart:hover {\n",
              "    background-color: var(--hover-bg-color);\n",
              "    box-shadow: 0 1px 2px rgba(60, 64, 67, 0.3), 0 1px 3px 1px rgba(60, 64, 67, 0.15);\n",
              "    fill: var(--button-hover-fill-color);\n",
              "  }\n",
              "\n",
              "  .colab-df-quickchart-complete:disabled,\n",
              "  .colab-df-quickchart-complete:disabled:hover {\n",
              "    background-color: var(--disabled-bg-color);\n",
              "    fill: var(--disabled-fill-color);\n",
              "    box-shadow: none;\n",
              "  }\n",
              "\n",
              "  .colab-df-spinner {\n",
              "    border: 2px solid var(--fill-color);\n",
              "    border-color: transparent;\n",
              "    border-bottom-color: var(--fill-color);\n",
              "    animation:\n",
              "      spin 1s steps(1) infinite;\n",
              "  }\n",
              "\n",
              "  @keyframes spin {\n",
              "    0% {\n",
              "      border-color: transparent;\n",
              "      border-bottom-color: var(--fill-color);\n",
              "      border-left-color: var(--fill-color);\n",
              "    }\n",
              "    20% {\n",
              "      border-color: transparent;\n",
              "      border-left-color: var(--fill-color);\n",
              "      border-top-color: var(--fill-color);\n",
              "    }\n",
              "    30% {\n",
              "      border-color: transparent;\n",
              "      border-left-color: var(--fill-color);\n",
              "      border-top-color: var(--fill-color);\n",
              "      border-right-color: var(--fill-color);\n",
              "    }\n",
              "    40% {\n",
              "      border-color: transparent;\n",
              "      border-right-color: var(--fill-color);\n",
              "      border-top-color: var(--fill-color);\n",
              "    }\n",
              "    60% {\n",
              "      border-color: transparent;\n",
              "      border-right-color: var(--fill-color);\n",
              "    }\n",
              "    80% {\n",
              "      border-color: transparent;\n",
              "      border-right-color: var(--fill-color);\n",
              "      border-bottom-color: var(--fill-color);\n",
              "    }\n",
              "    90% {\n",
              "      border-color: transparent;\n",
              "      border-bottom-color: var(--fill-color);\n",
              "    }\n",
              "  }\n",
              "</style>\n",
              "\n",
              "  <script>\n",
              "    async function quickchart(key) {\n",
              "      const quickchartButtonEl =\n",
              "        document.querySelector('#' + key + ' button');\n",
              "      quickchartButtonEl.disabled = true;  // To prevent multiple clicks.\n",
              "      quickchartButtonEl.classList.add('colab-df-spinner');\n",
              "      try {\n",
              "        const charts = await google.colab.kernel.invokeFunction(\n",
              "            'suggestCharts', [key], {});\n",
              "      } catch (error) {\n",
              "        console.error('Error during call to suggestCharts:', error);\n",
              "      }\n",
              "      quickchartButtonEl.classList.remove('colab-df-spinner');\n",
              "      quickchartButtonEl.classList.add('colab-df-quickchart-complete');\n",
              "    }\n",
              "    (() => {\n",
              "      let quickchartButtonEl =\n",
              "        document.querySelector('#df-b1f8a9d1-fc0c-41fc-8abc-e8c8b1f0c18e button');\n",
              "      quickchartButtonEl.style.display =\n",
              "        google.colab.kernel.accessAllowed ? 'block' : 'none';\n",
              "    })();\n",
              "  </script>\n",
              "</div>\n",
              "    </div>\n",
              "  </div>\n"
            ]
          },
          "metadata": {},
          "execution_count": 70
        }
      ]
    },
    {
      "cell_type": "markdown",
      "source": [
        "  Desconsiderando a coluna ano e a quantidade de linhas, os demais dados apresentados trazem informações relevantes para nossa análise.\n",
        "  \n",
        "  Podemos ver que média e mediana estão relativamente próximas, com variações em torno de 10%-16% entre si. O fato de termos a mediana sendo superior a média e todos os itens poderia indicar que teríamos valores menores à direita caso fosse feita uma distribuição normal.\n",
        "  \n",
        "  Quando pegamos o desvio padrão percebemos que os dados possuem uma grande dispersão (ou variabilidade). O que para uma análise estatística seria muito ruim, porém no tema analisado isso é muito bom, pois demonstra sinais de evolução ao longo dos anos.\n",
        "\n",
        "  Quando pegamos mínimo e máximo podemos comprovar o fato do desvio padrão ser tão alto, pois temos casos onde mostra que há uma diferença de quase 600%, como no caso das exportações, com o mínimo sendo de USD 47,95 bilhões e o máximo USD 334,14 bilhões. Estatiscamente falando, poderia ser muito ruim ter que trabalhar com dados assim, porém economicamente esses dados são muito bons.\n",
        "\n",
        "  Vale destacar que para esse caso não agregaria em nada fazermos uma destribuição normal, pois temos outros tipos de gráficos para mostrar os dados de forma que os torne mais relevantes para nossa análise. A ideia principal aqui foi interpretar os dados descritivos apresentados, traçando um paralelo com a estatística e a visão de mercado do tema."
      ],
      "metadata": {
        "id": "oYX3hk2llLMu"
      }
    },
    {
      "cell_type": "markdown",
      "source": [
        "**3.2 - Análise Exploratória**"
      ],
      "metadata": {
        "id": "e1vqigtw7DxU"
      }
    },
    {
      "cell_type": "code",
      "source": [
        "# Gráfico de barras empilhadas com Exportação e Importação, representando assim a Corrente de Comércio\n",
        "\n",
        "plt.bar(df['ANO'], df['EXPORTAÇÃO'], label='EXPORTAÇÃO')\n",
        "plt.bar(df['ANO'], df['IMPORTAÇÃO'], bottom=df['EXPORTAÇÃO'], label='IMPORTAÇÃO')\n",
        "plt.xlabel('ANO')\n",
        "plt.ylabel('Valor Bilhões USD')\n",
        "plt.title('Composição Corrente de Comércio Anual')\n",
        "plt.legend()\n",
        "plt.show()"
      ],
      "metadata": {
        "colab": {
          "base_uri": "https://localhost:8080/",
          "height": 0
        },
        "id": "n6MfQAVUvgkU",
        "outputId": "782e4766-a05d-49d3-9791-9c139acc9db5"
      },
      "execution_count": 71,
      "outputs": [
        {
          "output_type": "display_data",
          "data": {
            "text/plain": [
              "<Figure size 640x480 with 1 Axes>"
            ],
            "image/png": "[encoded data removed]"
          },
          "metadata": {}
        }
      ]
    },
    {
      "cell_type": "markdown",
      "source": [
        "Nesse gráfico podemos ver que a Corrente de Comércio do Brasil vem evoluindo quase que de forma constante ao longo dos anos, tendo seu ápice no ano de 2022. Nesse período vemos que os números saltaram de pouco mais 100 bilhões para mais de 600 bilhões, representando um aumento em torno de 500%."
      ],
      "metadata": {
        "id": "bNikVPoc3Pq9"
      }
    },
    {
      "cell_type": "code",
      "source": [
        "# Gráfico de barras empilhadas com Exportação e Importação, representando assim a Corrente de Comércio\n",
        "\n",
        "plt.bar(df['ANO'], df['PIB'], color='green', alpha=0.7)\n",
        "\n",
        "plt.xlabel('ANO')\n",
        "plt.ylabel('Valor Bilhões USD')\n",
        "plt.title('PIB Anual')\n",
        "\n",
        "plt.show()"
      ],
      "metadata": {
        "colab": {
          "base_uri": "https://localhost:8080/",
          "height": 0
        },
        "id": "rdK1tOVWvh4m",
        "outputId": "3de2660b-a142-448f-828f-2ac66240a05f"
      },
      "execution_count": 72,
      "outputs": [
        {
          "output_type": "display_data",
          "data": {
            "text/plain": [
              "<Figure size 640x480 with 1 Axes>"
            ],
            "image/png": "[encoded data removed]"
          },
          "metadata": {}
        }
      ]
    },
    {
      "cell_type": "markdown",
      "source": [
        "   Nesse caso podemos ver que o PIB teve uma pequena queda a partir do primeiro ano de nossa análise, chegando ao menor valor no ano de 2002, quando começou a escalada até a chegada de seu ápice em 2011, com algo superior aos USD 2,5 trilhões. Daí, ele começa um período de queda, onde vemos uma pequenas oscilações e fechando o ano de 2022 com patamares de 2018, com algo superior aos USD 1,9 trilhões."
      ],
      "metadata": {
        "id": "OeYTpujZ9qcK"
      }
    },
    {
      "cell_type": "code",
      "source": [
        "# Representatividade da Corrente de Comex X PIB\n",
        "\n",
        "df['Representatividade'] = (df['CORRENTE COMEX'] / df['PIB']) * 100\n",
        "\n",
        "plt.plot(df['ANO'], df['Representatividade'], marker='o', color='#1f77b4', label='Representatividade CORRENTE COMEX')\n",
        "\n",
        "plt.xlabel('ANO')\n",
        "plt.ylabel('Representatividade (%)')\n",
        "plt.title('Representatividade Corrente Comex X PIB')\n",
        "\n",
        "plt.show()"
      ],
      "metadata": {
        "colab": {
          "base_uri": "https://localhost:8080/",
          "height": 0
        },
        "id": "f6tvGb_GviQr",
        "outputId": "804fae63-f751-4c35-d2d0-ecd54d42069b"
      },
      "execution_count": 73,
      "outputs": [
        {
          "output_type": "display_data",
          "data": {
            "text/plain": [
              "<Figure size 640x480 with 1 Axes>"
            ],
            "image/png": "[encoded data removed]"
          },
          "metadata": {}
        }
      ]
    },
    {
      "cell_type": "markdown",
      "source": [
        "  Nesse gráfico podemos ver a representatividade da Corrente de Comércio em comparação com o PIB, onde ela apresentou um crescimento importante nos primeiros anos, praticamente dobrando sua participação até no ano de 2004, depois seguida por algumas quedas, quando por volta de 2017 ela começou a se consolidar e voltar a crescer, atingido seu ápice no ano de 2022, mesmo ano no qual a Corrente de Comércio atingiu seu teto."
      ],
      "metadata": {
        "id": "zkTllJbZMaYv"
      }
    },
    {
      "cell_type": "code",
      "source": [
        "# Gráfico para mostrar a Corrente de Comex X PIB, juntamente com a representatividade contra o outro\n",
        "\n",
        "  # Por ser uma gráfico com várias informações será importante que os dados sejam bem dispostos, sem que haja uma poluição visual\n",
        "\n",
        "    # Configurar posições no eixo x para barras paralelas\n",
        "df = df.sort_values(by='ANO')\n",
        "posicoes_ano = np.arange(len(df['ANO']))\n",
        "largura_barra = 0.35\n",
        "\n",
        "    # Ajustar a área de plotagem, considerando o total de dados a serem visualizados, seguindo as boas práticas de dataviz\n",
        "fig, ax1 = plt.subplots(figsize=(18, 8))\n",
        "\n",
        "ax1.bar(posicoes_ano - largura_barra/2, df['CORRENTE COMEX'], width=largura_barra, label='Corrente Comex', color='skyblue')\n",
        "ax1.bar(posicoes_ano + largura_barra/2, df['PIB'], width=largura_barra, label='PIB', color='lightcoral')\n",
        "\n",
        "ax1.set_xlabel('ANO')\n",
        "ax1.set_ylabel('Valor Bilhões USD', color='black')  # Rótulo do eixo Y\n",
        "\n",
        "ax2 = ax1.twinx()\n",
        "ax2.plot(posicoes_ano, df['Representatividade'], marker='o', color='lightgreen', label='Representatividade')\n",
        "\n",
        "ax2.set_ylabel('Representatividade (%)', color='black')  # Rótulo do segundo eixo Y\n",
        "ax2.set_title('Corrente de Comércio X PIB x Representatividade')\n",
        "\n",
        "    #Adicionar e posicionar legendas para ambos os eixos\n",
        "ax1.legend(loc='center left')\n",
        "ax2.legend(loc='upper left')\n",
        "\n",
        "ax1.set_xticks(posicoes_ano)\n",
        "ax1.set_xticklabels(df['ANO'])\n",
        "\n",
        "\n",
        "plt.show()"
      ],
      "metadata": {
        "colab": {
          "base_uri": "https://localhost:8080/",
          "height": 0
        },
        "id": "4MuawLGgQ1gJ",
        "outputId": "4d0dc553-3e07-44cb-a8ec-b14990763274"
      },
      "execution_count": 74,
      "outputs": [
        {
          "output_type": "display_data",
          "data": {
            "text/plain": [
              "<Figure size 1800x800 with 2 Axes>"
            ],
            "image/png": "[encoded data removed]"
          },
          "metadata": {}
        }
      ]
    },
    {
      "cell_type": "markdown",
      "source": [
        "Nesse gráficos conseguimos visualizar no início de nossa série histórica a participação da Corrente de Comércio do Brasil era algo pouco superior as 10% do PIB, porém foi gradativamente crescendo e praticamente dobrando representatividade até o ano de 2004, quando podemos perceber algumas oscilações até 2016, quando esse cenário muda e passamos a ter um aumento constante, chegando ao seu ápice no ano de 2022."
      ],
      "metadata": {
        "id": "Bpgi9ottWz3b"
      }
    },
    {
      "cell_type": "code",
      "source": [
        "# Verificar a correlação entre as colunas numéricas e \"PIB\" utilizando uma biblioteca diferente, que nesse caso foi a NumPy\n",
        "\n",
        "correlacao_comex_pib = np.corrcoef(df['CORRENTE COMEX'], df['PIB'])[0, 1]\n",
        "\n",
        "print(\"Correlação entre 'CORRENTE COMEX' x 'PIB':\", correlacao_comex_pib)\n"
      ],
      "metadata": {
        "id": "7LV6hEVnw73M",
        "colab": {
          "base_uri": "https://localhost:8080/"
        },
        "outputId": "1c322e08-13f7-4d06-8272-29ba82c6b0fe"
      },
      "execution_count": 75,
      "outputs": [
        {
          "output_type": "stream",
          "name": "stdout",
          "text": [
            "Correlação entre 'CORRENTE COMEX' x 'PIB': 0.8992899048117309\n"
          ]
        }
      ]
    },
    {
      "cell_type": "code",
      "source": [
        "# Gráfico de dispersão entre PIB e Corrente Comex\n",
        "plt.scatter(df['PIB'], df['CORRENTE COMEX'], color='darkblue', marker='o', label='PIB vs CORRENTE COMEX')\n",
        "\n",
        "plt.xlabel('PIB')\n",
        "plt.ylabel('CORRENTE COMEX')\n",
        "plt.title('PIB vs CORRENTE COMEX')\n",
        "\n",
        "plt.show()"
      ],
      "metadata": {
        "colab": {
          "base_uri": "https://localhost:8080/",
          "height": 0
        },
        "id": "7mMH6OTj0JMT",
        "outputId": "edae5760-9d0d-46eb-ab28-9ec48201a21f"
      },
      "execution_count": 76,
      "outputs": [
        {
          "output_type": "display_data",
          "data": {
            "text/plain": [
              "<Figure size 640x480 with 1 Axes>"
            ],
            "image/png": "[encoded data removed]"
          },
          "metadata": {}
        }
      ]
    },
    {
      "cell_type": "markdown",
      "source": [
        "  Podemos ver que existe uma correlação positiva forte entre as variáveis Corrente de Comércio e PIB, onde chega próximo aos 0.90."
      ],
      "metadata": {
        "id": "VStzPK-QPIPb"
      }
    },
    {
      "cell_type": "markdown",
      "source": [
        "# **4 - Pré-processamento de Dados**"
      ],
      "metadata": {
        "id": "NXvIpnVgY3n5"
      }
    },
    {
      "cell_type": "markdown",
      "source": [
        "A etapa de Pré-Processamento de dados é em geral aquela que mais toma o nosso tempo ao trabalhar com dados, principalmente pelo fato de que muitas vezes as bases de dados não estão \"perfeitas\", contendo valores faltantes ou nulos, ou até mesmo dados inconsistentes. Nessa nossa base não temos esse tipo e problemas, uma vez que os dados utilizados são todos dados oficiais e não podem conter erros.\n",
        "\n",
        "Qualquer operação como balanceamento, limpeza ou seleção de atributos dos dados não agregariam valor para esse trabalho em si. Algumas outras etapdas de pré-processamento já foram realizadas em outros projetos, como esse do link https://github.com/zilves27/PUC/blob/main/PUC_MVP_Sprint_II_ML_Valor_Chapa_KG.ipynb.\n",
        "\n",
        "Apenas reforçando que o fato de não termos etapas de pré-processamento nesse projeto não quer dizer que seja uma etapa desnecessária, apenas que os dados apresentados não necessitariam esse tipo de processo e que se fossem feitos, apenas encheriam o código e não agregariam valor para o que é mais importante, que nesse caso seriam as análises.\n"
      ],
      "metadata": {
        "id": "PmKiOPXEXS5t"
      }
    },
    {
      "cell_type": "markdown",
      "source": [
        "# **5 - Conclusão**"
      ],
      "metadata": {
        "id": "ADkPFv84ZZ2V"
      }
    },
    {
      "cell_type": "markdown",
      "source": [
        "Antes de tudo, acredito que tem que ser reforçado mais uma vez que a moeda adotada para expressar os números foi o Dólar do Estados Unidos, que é uma espécie de moeda padrão para divulgação de números da economia ao redor do mundo. No Brasil é adotado o câmbio flutuante, que é quando a moeda vai sofrendo alterações conforme reação do mercado. Com isso, sabe-se que o Real tem perdido muito valor ao longo dos anos perante outras moedas, principalmente ao Dólar. Tendo isso em vista, os números de PIB e Corrente de Comércio podem até ter apresentado números diferentes se analisados na moeda local, porém a ideia é seguir a mesma linha de pesquisa que os demais que acompanham esse segmento. Prova disso é que o PIB do ano de 2022 fechou como recorde na moeda local, em torno de 10 trilhões de Reais, contudo em nível de Dólar, o valor ficou no mesmo patamar de 2018, quando em Reais o PIB fechou em cerca de 6,8 trilhões. Desde 2020 o Brasil vem sofrendo demais com a desvalorização de sua moeda, principalmente em função da pandemia, onde muitos ficaram receosos do que poderia acontecer em função da recessão global e preferiram se “garantir” em moedas mais fortes. Vemos aqui um exemplo claro de que outros fatores podem sim influenciar numa análise do processo e não poderíamos ter uma verdade absoluta olhando apenas para os aspectos apresentados. Talvez incluindo uma análise sobre o câmbio fosse possível traçar um paralelo sobre a influência nos valores apresentados, porém daí teríamos que avaliar outras variáveis que influenciam a oscilação do câmbio e acabaríamos por ter uma sequência de análises sem fim, e pior ainda, sem podermos realizar uma Análise Exploratória básica dos números apresentados.\n",
        "\n",
        "Tendo isso em vista, conseguimos destacar aqui a importância de uma das áreas de conhecimento do Cientista de Dados, que é o “Conhecimento do Negócio”, pois entender do negócio ajuda a tirar qualquer tipo de viés da análise e tentar interpretar os números de maneira mais.\n",
        "\n",
        "Seguindo com a conclusão, destaco que a Corrente de Comércio é de suma importância para economia, pois mostra como o país consegue relacionar comercialmente com os outros países. Considerando um mundo globalizado, como é atualmente, ter um desempenho evolutivo durante o período é sim para se destacar, mesmo que ele sofra com as oscilações do câmbio, os números se mostraram bem positivos, mostrando que o Brasil tem crescido nessa área.\n",
        "\n",
        "Vimos também que o PIB possui uma curva de oscilação bem maior que a da Corrente de Comex, tendo atingido seu teto num período bem diferente, sendo em 2011. Apesar de que como explicado acima o valor máximo na moeda local foi em 2022, os valores na moeda Dólar é que estão sendo analisados.\n",
        "\n",
        "Em relação a representatividade da Corrente de Comex em relação ao PIB vimos que o Brasil teve sua melhor marca no ano de 2022, com uma marca superior a 30%. Esse número não é ruim, uma vez que já representou bem menos, porém ainda estamos distantes das grandes economias globais, onde esse número em muitos os casos superam os 50%, tendo situações mais pontuais e marcantes como da China, onde a Corrente de Comércio representa algo em torno de 65% do PIB. Estamos evoluindo sim, mas temos um longo caminho a ser percorrido até conseguirmos chegar nos níveis internacionais.\n",
        "\n",
        "Um outro destaque, onde mais uma vez poderemos comprovar a importância do “Conhecimento do Negócio” como fator diferencial para o Cientista de Dados é no campo de correlação entre Corrente de Comex e PIB. Como visto, o valor atingido nessa análise foi em torno de 0.90, o que nos remete a uma correlação positiva forte. Olhando apenas a parte estatística, podemos ver que são valores relevantes para nossa análise e poderia ser criado um mundo de maravilhas com esse dado. Contudo, tendo em vista o conhecimento do negócio, esse tipo de correlação já era esperado. De fato, podemos afirmar que há uma causalidade nesse aspecto, uma vez que como já explicado o PIB é a soma de todas as riquezas produzidas pelo país e a Corrente de Comex é composta pela soma de Exportação e Importação, onde Exportação, de forma bem simplória, é a venda de produtos para outros países. Sendo assim, só se pode exportar o que já foi produzido e se já foi produzido, entre no cálculo do PIB. Sim, pode parecer meio estranho, mas a ideia é tentar explicar de forma simples e direta para aqueles não possuem total conhecimento sobre o assunto e não apenas querer impressionar mostrando um resultado e querer fazer festa em cima dele.\n",
        "\n",
        "Finalizando, vemos que o que foi proposto na etapa de “Definição do Problema” foi respondido, tanto ao longo das etapas do projeto, quanto com o que foi destacado na etapa de “Conclusão”. Um detalhamento robusto, interpretando em detalhes os dados apresentados e dando uma visão sobre como não se iludir ou querer interpretar um dado de forma enviesada.\n"
      ],
      "metadata": {
        "id": "sdADOMNMZZ2b"
      }
    }
  ]
}