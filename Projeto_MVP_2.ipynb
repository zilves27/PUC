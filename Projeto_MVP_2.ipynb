{
  "nbformat": 4,
  "nbformat_minor": 0,
  "metadata": {
    "colab": {
      "provenance": [],
      "authorship_tag": "ABX9TyM46CYvW3NWmUYhD4LYp0zL",
      "include_colab_link": true
    },
    "kernelspec": {
      "name": "python3",
      "display_name": "Python 3"
    },
    "language_info": {
      "name": "python"
    }
  },
  "cells": [
    {
      "cell_type": "markdown",
      "metadata": {
        "id": "view-in-github",
        "colab_type": "text"
      },
      "source": [
        "<a href=\"https://colab.research.google.com/github/zilves27/PUC/blob/main/Projeto_MVP_2.ipynb\" target=\"_parent\"><img src=\"https://colab.research.google.com/assets/colab-badge.svg\" alt=\"Open In Colab\"/></a>"
      ]
    },
    {
      "cell_type": "markdown",
      "source": [
        "MVP 2 - Cancer Data Analysis"
      ],
      "metadata": {
        "id": "YGZ47iFM8gIx"
      }
    },
    {
      "cell_type": "markdown",
      "source": [
        "Definição do Problema:\n",
        "\n",
        "- Descrição do problema: O objetivo é avaliar pacientes diagnosticados com câncer, distinguindo-os entre os tipos maligno e benigno;\n",
        "- Premissas ou hipóteses sobre o problema: Inicialmente a expectativa era de que certos atributos fossem mais relevantes na classificação do câncer, como por exemplo o tamanho do tumor, características histológicas, ou algum outro;\n",
        "- Restrições ou condições impostas para selecionar os dados: Não foram aplicadas/identificadas restrições;\n",
        "- Descrição do dataset: O dataset utilizado contém informações sobre características clínicas e patológicas de pacientes com câncer, incluindo medidas de tamanho do tumor, textura, perímetro, área, suavidade, compactação, concavidade, simetria, dimensão fractal, dentre outros atributos;"
      ],
      "metadata": {
        "id": "_cLprySOJ2Ss"
      }
    },
    {
      "cell_type": "markdown",
      "source": [
        "Importar Bibliotecas Necessárias"
      ],
      "metadata": {
        "id": "ngFvmoOo8y-4"
      }
    },
    {
      "cell_type": "code",
      "source": [
        "import pandas as pd\n",
        "import numpy as np\n",
        "import matplotlib.pyplot as plt\n",
        "from sklearn.preprocessing import StandardScaler\n",
        "from sklearn.preprocessing import MinMaxScaler\n",
        "from sklearn.model_selection import train_test_split\n",
        "from sklearn.model_selection import KFold\n",
        "from sklearn.model_selection import StratifiedKFold\n",
        "from sklearn.model_selection import cross_val_score\n",
        "from sklearn.model_selection import GridSearchCV\n",
        "from sklearn.metrics import accuracy_score\n",
        "from sklearn.pipeline import Pipeline\n",
        "from sklearn.linear_model import LogisticRegression\n",
        "from sklearn.tree import DecisionTreeClassifier\n",
        "from sklearn.neighbors import KNeighborsClassifier\n",
        "from sklearn.naive_bayes import GaussianNB\n",
        "from sklearn.svm import SVC\n",
        "from sklearn.model_selection import ShuffleSplit\n",
        "from sklearn.ensemble import BaggingClassifier\n",
        "from sklearn.ensemble import RandomForestClassifier\n",
        "from sklearn.ensemble import ExtraTreesClassifier\n",
        "from sklearn.ensemble import VotingClassifier\n",
        "from sklearn.ensemble import AdaBoostClassifier\n",
        "from sklearn.ensemble import GradientBoostingClassifier\n",
        "from sklearn.utils.multiclass import type_of_target"
      ],
      "metadata": {
        "id": "8qNpemAiwwmB"
      },
      "execution_count": 42,
      "outputs": []
    },
    {
      "cell_type": "markdown",
      "source": [
        "Carregar Dataset"
      ],
      "metadata": {
        "id": "CV7-5gDkw20H"
      }
    },
    {
      "cell_type": "code",
      "source": [
        "# Carregar o arquivo CSV diretamente do github\n",
        "url = \"https://raw.githubusercontent.com/zilves27/PUC/main/Cancer_Data.csv\"\n",
        "ds = pd.read_csv(url, sep=\";\")\n",
        "\n",
        "# Visualizar as primeiras linhas do Dataset\n",
        "print(ds.head())"
      ],
      "metadata": {
        "id": "FYhXnghXw6G3",
        "colab": {
          "base_uri": "https://localhost:8080/"
        },
        "outputId": "3f1d39fb-e8ca-4920-f638-71c5d058cfab"
      },
      "execution_count": 43,
      "outputs": [
        {
          "output_type": "stream",
          "name": "stdout",
          "text": [
            "         id  radius_mean  texture_mean  perimeter_mean  area_mean  \\\n",
            "0    842302        17.99         10.38          122.80     1001.0   \n",
            "1    842517        20.57         17.77          132.90     1326.0   \n",
            "2  84300903        19.69         21.25          130.00     1203.0   \n",
            "3  84348301        11.42         20.38           77.58      386.1   \n",
            "4  84358402        20.29         14.34          135.10     1297.0   \n",
            "\n",
            "   smoothness_mean  compactness_mean  concavity_mean  concave points_mean  \\\n",
            "0          0.11840           0.27760          0.3001              0.14710   \n",
            "1          0.08474           0.07864          0.0869              0.07017   \n",
            "2          0.10960           0.15990          0.1974              0.12790   \n",
            "3          0.14250           0.28390          0.2414              0.10520   \n",
            "4          0.10030           0.13280          0.1980              0.10430   \n",
            "\n",
            "   symmetry_mean  ...  texture_worst  perimeter_worst  area_worst  \\\n",
            "0         0.2419  ...          17.33           184.60      2019.0   \n",
            "1         0.1812  ...          23.41           158.80      1956.0   \n",
            "2         0.2069  ...          25.53           152.50      1709.0   \n",
            "3         0.2597  ...          26.50            98.87       567.7   \n",
            "4         0.1809  ...          16.67           152.20      1575.0   \n",
            "\n",
            "   smoothness_worst  compactness_worst  concavity_worst  concave points_worst  \\\n",
            "0            0.1622             0.6656           0.7119                0.2654   \n",
            "1            0.1238             0.1866           0.2416                0.1860   \n",
            "2            0.1444             0.4245           0.4504                0.2430   \n",
            "3            0.2098             0.8663           0.6869                0.2575   \n",
            "4            0.1374             0.2050           0.4000                0.1625   \n",
            "\n",
            "   symmetry_worst  fractal_dimension_worst  diagnosis  \n",
            "0          0.4601                  0.11890          1  \n",
            "1          0.2750                  0.08902          1  \n",
            "2          0.3613                  0.08758          1  \n",
            "3          0.6638                  0.17300          1  \n",
            "4          0.2364                  0.07678          1  \n",
            "\n",
            "[5 rows x 32 columns]\n"
          ]
        }
      ]
    },
    {
      "cell_type": "markdown",
      "source": [
        "Preparação dos dados:\n",
        "\n",
        "- Separação entre treino e teste: O dataset foi dividido utilizando a técnica holdout, onde 70% dos dados foram destinados ao treinamento e 30% para testes;\n",
        "- Uso de validação cruzada: Foi utilizada a técnica de validação cruzada estratificada com 5 partições (StratifiedKFold) para avaliar os modelos;\n",
        "- Transformação dos dados: Foi utilizado a técnica de StandardScaler para realizar a padronização dos dados;"
      ],
      "metadata": {
        "id": "sMVGKTAxNn22"
      }
    },
    {
      "cell_type": "markdown",
      "source": [
        "Separar Bases em Treino e Teste Utilizando Holdout"
      ],
      "metadata": {
        "id": "1LfxNm8O2X8L"
      }
    },
    {
      "cell_type": "code",
      "source": [
        "test_size = 0.30 # tamanho do conjunto de teste\n",
        "seed = 42 # semente aleatória\n",
        "\n",
        "# Separação conjuntos de treino e teste\n",
        "array = ds.values\n",
        "X = array[:,0:31]\n",
        "y = array[:,31]\n",
        "X_train, X_test, y_train, y_test = train_test_split(X, y,\n",
        "    test_size=test_size, shuffle=True, random_state=seed) # holdout\n",
        "\n",
        "# Parâmetros e partições para validação cruzada\n",
        "scoring = 'accuracy'\n",
        "num_particoes = 5\n",
        "kfold = StratifiedKFold(n_splits=num_particoes, shuffle=True, random_state=seed) # validação cruzada"
      ],
      "metadata": {
        "id": "bmF1F7LN2aY3"
      },
      "execution_count": 44,
      "outputs": []
    },
    {
      "cell_type": "markdown",
      "source": [
        "Modelagem e treinamento:\n",
        "\n",
        "- Algoritmos selecionados: Foram selecionados alguns algoritmos de classificação, tais como: Regressão Logística, K-Nearest Neighbors (KNN), Árvore de Decisão (CART), Naive Bayes (NB), Support Vector Machines (SVM), Bagging, Random Forest, Extra Trees, AdaBoost e Gradient Boosting;\n",
        "- Não foi considerado ajuste inicial para hiperparâmetros;\n",
        "- Otimização dos hiperparâmetros: Foi realizada uma otimização dos hiperparâmetros para o algoritmo KNN usando GridSearchCV;\n",
        "- Avaliação de modelos avançados ou complexos: Utilizou-se a abordagem de VotingClassifier do ensemble, combinando os modelos para escolha;"
      ],
      "metadata": {
        "id": "ToRGDrHcO5pb"
      }
    },
    {
      "cell_type": "markdown",
      "source": [
        "Modelagem e Inferência"
      ],
      "metadata": {
        "id": "cJrFDw1l14r7"
      }
    },
    {
      "cell_type": "markdown",
      "source": [
        "Linha base"
      ],
      "metadata": {
        "id": "TaKa6lFH15zd"
      }
    },
    {
      "cell_type": "code",
      "source": [
        "np.random.seed(42) # definindo semente global\n",
        "\n",
        "# Lista de armazenagem dos modelos\n",
        "models = []\n",
        "\n",
        "# Criação dos modelos e adição na lista\n",
        "models.append(('LR', LogisticRegression(max_iter=200)))\n",
        "models.append(('KNN', KNeighborsClassifier()))\n",
        "models.append(('CART', DecisionTreeClassifier()))\n",
        "models.append(('NB', GaussianNB()))\n",
        "models.append(('SVM', SVC()))\n",
        "\n",
        "# Definição dos parâmetros para classificador base do BaggingClassifier\n",
        "base = DecisionTreeClassifier()\n",
        "num_trees = 250\n",
        "max_features = 4\n",
        "\n",
        "# Criação dos modelos do VotingClassifier\n",
        "bases = []\n",
        "model1 = LogisticRegression(max_iter=200)\n",
        "bases.append(('logistic', model1))\n",
        "model2 = DecisionTreeClassifier()\n",
        "bases.append(('cart', model2))\n",
        "model3 = SVC()\n",
        "bases.append(('svm', model3))\n",
        "\n",
        "# Criação dos ensembles e adição na lista de modelos\n",
        "models.append(('Bagging', BaggingClassifier(estimator=base, n_estimators=num_trees)))\n",
        "models.append(('RF', RandomForestClassifier(n_estimators=num_trees, max_features=max_features)))\n",
        "models.append(('ET', ExtraTreesClassifier(n_estimators=num_trees, max_features=max_features)))\n",
        "models.append(('Ada', AdaBoostClassifier(n_estimators=num_trees)))\n",
        "models.append(('GB', GradientBoostingClassifier(n_estimators=num_trees)))\n",
        "models.append(('Voting', VotingClassifier(bases)))\n",
        "\n",
        "# Listas de armazenamento dos resultados\n",
        "results = []\n",
        "names = []\n",
        "\n",
        "# Avaliar os modelos\n",
        "for name, model in models:\n",
        "    cv_results = cross_val_score(model, X_train, y_train, cv=kfold, scoring=scoring)\n",
        "    results.append(cv_results)\n",
        "    names.append(name)\n",
        "    msg = \"%s: %f (%f)\" % (name, cv_results.mean(), cv_results.std())\n",
        "    print(msg)\n",
        "\n",
        "# Boxplot comparativo dos modelos\n",
        "fig = plt.figure(figsize=(15,10))\n",
        "fig.suptitle('Comparação Modelos')\n",
        "ax = fig.add_subplot(111)\n",
        "plt.boxplot(results)\n",
        "ax.set_xticklabels(names)\n",
        "plt.show()\n",
        "\n"
      ],
      "metadata": {
        "colab": {
          "base_uri": "https://localhost:8080/",
          "height": 1000
        },
        "id": "ZeygmPbL4PuO",
        "outputId": "5b318958-e0df-41d9-b696-bd9bb2c37822"
      },
      "execution_count": 45,
      "outputs": [
        {
          "output_type": "stream",
          "name": "stdout",
          "text": [
            "LR: 0.625633 (0.004077)\n",
            "KNN: 0.740981 (0.055974)\n",
            "CART: 0.929747 (0.030041)\n",
            "NB: 0.618101 (0.012268)\n",
            "SVM: 0.613133 (0.025641)\n",
            "Bagging: 0.944842 (0.025601)\n",
            "RF: 0.952310 (0.012094)\n",
            "ET: 0.962373 (0.013636)\n",
            "Ada: 0.964873 (0.016556)\n",
            "GB: 0.952405 (0.029916)\n",
            "Voting: 0.630633 (0.010502)\n"
          ]
        },
        {
          "output_type": "display_data",
          "data": {
            "text/plain": [
              "<Figure size 1500x1000 with 1 Axes>"
            ],
            "image/png": "[encoded data removed]"
          },
          "metadata": {}
        }
      ]
    },
    {
      "cell_type": "markdown",
      "source": [
        "Dados Padronizados e Normalizados"
      ],
      "metadata": {
        "id": "LRR-CQKjyUQe"
      }
    },
    {
      "cell_type": "code",
      "source": [
        "np.random.seed(42) # definindo semente global\n",
        "\n",
        "# Listas de armazenamento dos pipelines e resultados para as visões do dataset\n",
        "pipelines = []\n",
        "results = []\n",
        "names = []\n",
        "\n",
        "\n",
        "# Criação dos elementos para o pipeline\n",
        "\n",
        "\n",
        "# Algoritmos utilizados para avaliação\n",
        "reg_log = ('LR', LogisticRegression(max_iter=200))\n",
        "knn = ('KNN', KNeighborsClassifier())\n",
        "cart = ('CART', DecisionTreeClassifier())\n",
        "naive_bayes = ('NB', GaussianNB())\n",
        "svm = ('SVM', SVC())\n",
        "bagging = ('Bag', BaggingClassifier(estimator=base, n_estimators=num_trees))\n",
        "random_forest = ('RF', RandomForestClassifier(n_estimators=num_trees, max_features=max_features))\n",
        "extra_trees = ('ET', ExtraTreesClassifier(n_estimators=num_trees, max_features=max_features))\n",
        "adaboost = ('Ada', AdaBoostClassifier(n_estimators=num_trees))\n",
        "gradient_boosting = ('GB', GradientBoostingClassifier(n_estimators=num_trees))\n",
        "voting = ('Voting', VotingClassifier(bases))\n",
        "\n",
        "\n",
        "# Transformações utilizadas\n",
        "standard_scaler = ('StandardScaler', StandardScaler())\n",
        "min_max_scaler = ('MinMaxScaler', MinMaxScaler())\n",
        "\n",
        "\n",
        "# Pipelines\n",
        "\n",
        "# Dataset original\n",
        "pipelines.append(('LR-orig', Pipeline([reg_log])))\n",
        "pipelines.append(('KNN-orig', Pipeline([knn])))\n",
        "pipelines.append(('CART-orig', Pipeline([cart])))\n",
        "pipelines.append(('NB-orig', Pipeline([naive_bayes])))\n",
        "pipelines.append(('SVM-orig', Pipeline([svm])))\n",
        "pipelines.append(('Bag-orig', Pipeline([bagging])))\n",
        "pipelines.append(('RF-orig', Pipeline([random_forest])))\n",
        "pipelines.append(('ET-orig', Pipeline([extra_trees])))\n",
        "pipelines.append(('Ada-orig', Pipeline([adaboost])))\n",
        "pipelines.append(('GB-orig', Pipeline([gradient_boosting])))\n",
        "pipelines.append(('Vot-orig', Pipeline([voting])))\n",
        "\n",
        "# Dataset Padronizado\n",
        "pipelines.append(('LR-padr', Pipeline([standard_scaler, reg_log])))\n",
        "pipelines.append(('KNN-padr', Pipeline([standard_scaler, knn])))\n",
        "pipelines.append(('CART-padr', Pipeline([standard_scaler, cart])))\n",
        "pipelines.append(('NB-padr', Pipeline([standard_scaler, naive_bayes])))\n",
        "pipelines.append(('SVM-padr', Pipeline([standard_scaler, svm])))\n",
        "pipelines.append(('Bag-padr', Pipeline([standard_scaler, bagging])))\n",
        "pipelines.append(('RF-padr', Pipeline([standard_scaler, random_forest])))\n",
        "pipelines.append(('ET-padr', Pipeline([standard_scaler, extra_trees])))\n",
        "pipelines.append(('Ada-padr', Pipeline([standard_scaler, adaboost])))\n",
        "pipelines.append(('GB-padr', Pipeline([standard_scaler, gradient_boosting])))\n",
        "pipelines.append(('Vot-padr', Pipeline([standard_scaler, voting])))\n",
        "\n",
        "# Dataset Normalizado\n",
        "pipelines.append(('LR-norm', Pipeline([min_max_scaler, reg_log])))\n",
        "pipelines.append(('KNN-norm', Pipeline([min_max_scaler, knn])))\n",
        "pipelines.append(('CART-norm', Pipeline([min_max_scaler, cart])))\n",
        "pipelines.append(('NB-norm', Pipeline([min_max_scaler, naive_bayes])))\n",
        "pipelines.append(('SVM-norm', Pipeline([min_max_scaler, svm])))\n",
        "pipelines.append(('Bag-norm', Pipeline([min_max_scaler, bagging])))\n",
        "pipelines.append(('RF-norm', Pipeline([min_max_scaler, random_forest])))\n",
        "pipelines.append(('ET-norm', Pipeline([min_max_scaler, extra_trees])))\n",
        "pipelines.append(('Ada-norm', Pipeline([min_max_scaler, adaboost])))\n",
        "pipelines.append(('GB-norm', Pipeline([min_max_scaler, gradient_boosting])))\n",
        "pipelines.append(('Vot-norm', Pipeline([min_max_scaler, voting])))\n",
        "\n",
        "# Execução de pipelines\n",
        "for name, model in pipelines:\n",
        "    cv_results = cross_val_score(model, X_train, y_train, cv=kfold, scoring=scoring)\n",
        "    results.append(cv_results)\n",
        "    names.append(name)\n",
        "    msg = \"%s: %.3f (%.3f)\" % (name, cv_results.mean(), cv_results.std()) # formatando para 3 casas decimais\n",
        "    print(msg)\n",
        "\n",
        "# Boxplot para comparação de modelos\n",
        "fig = plt.figure(figsize=(25,6))\n",
        "fig.suptitle('Comparação de Modelos - Dataset original, padronizado e normalizado')\n",
        "ax = fig.add_subplot(111)\n",
        "plt.boxplot(results)\n",
        "ax.set_xticklabels(names, rotation=90)\n",
        "plt.show()"
      ],
      "metadata": {
        "colab": {
          "base_uri": "https://localhost:8080/",
          "height": 1000
        },
        "id": "Itmoi2ZDycFq",
        "outputId": "6e5a25ba-03ea-476d-93e7-cad64035c129"
      },
      "execution_count": 46,
      "outputs": [
        {
          "output_type": "stream",
          "name": "stdout",
          "text": [
            "LR-orig: 0.626 (0.004)\n",
            "KNN-orig: 0.741 (0.056)\n",
            "CART-orig: 0.930 (0.030)\n",
            "NB-orig: 0.618 (0.012)\n",
            "SVM-orig: 0.613 (0.026)\n",
            "Bag-orig: 0.945 (0.026)\n",
            "RF-orig: 0.952 (0.012)\n",
            "ET-orig: 0.962 (0.014)\n",
            "Ada-orig: 0.965 (0.017)\n",
            "GB-orig: 0.952 (0.030)\n",
            "Vot-orig: 0.631 (0.011)\n",
            "LR-padr: 0.980 (0.020)\n",
            "KNN-padr: 0.952 (0.012)\n",
            "CART-padr: 0.927 (0.031)\n",
            "NB-padr: 0.937 (0.026)\n",
            "SVM-padr: 0.967 (0.020)\n",
            "Bag-padr: 0.945 (0.028)\n",
            "RF-padr: 0.950 (0.022)\n",
            "ET-padr: 0.965 (0.012)\n",
            "Ada-padr: 0.970 (0.010)\n",
            "GB-padr: 0.952 (0.030)\n",
            "Vot-padr: 0.975 (0.018)\n",
            "LR-norm: 0.957 (0.026)\n",
            "KNN-norm: 0.965 (0.005)\n",
            "CART-norm: 0.932 (0.032)\n",
            "NB-norm: 0.937 (0.026)\n",
            "SVM-norm: 0.965 (0.018)\n",
            "Bag-norm: 0.947 (0.028)\n",
            "RF-norm: 0.955 (0.015)\n",
            "ET-norm: 0.962 (0.016)\n",
            "Ada-norm: 0.970 (0.010)\n",
            "GB-norm: 0.955 (0.030)\n",
            "Vot-norm: 0.960 (0.021)\n"
          ]
        },
        {
          "output_type": "display_data",
          "data": {
            "text/plain": [
              "<Figure size 2500x600 with 1 Axes>"
            ],
            "image/png": "[encoded data removed]"
          },
          "metadata": {}
        }
      ]
    },
    {
      "cell_type": "markdown",
      "source": [
        "Hiperparâmetros otimizados"
      ],
      "metadata": {
        "id": "0s8dUpUh2WRy"
      }
    },
    {
      "cell_type": "code",
      "source": [
        "# Tuning do KNN\n",
        "\n",
        "np.random.seed(42) # definição da seed global\n",
        "\n",
        "pipelines = []\n",
        "\n",
        "\n",
        "# Definição do pipeline\n",
        "\n",
        "knn = ('KNN', KNeighborsClassifier())\n",
        "standard_scaler = ('StandardScaler', StandardScaler())\n",
        "min_max_scaler = ('MinMaxScaler', MinMaxScaler())\n",
        "\n",
        "pipelines.append(('knn-orig', Pipeline(steps=[knn])))\n",
        "pipelines.append(('knn-padr', Pipeline(steps=[standard_scaler, knn])))\n",
        "pipelines.append(('knn-norm', Pipeline(steps=[min_max_scaler, knn])))\n",
        "\n",
        "param_grid = {\n",
        "    'KNN__n_neighbors': [1,3,5,7,9,11,13,15,17,19,21],\n",
        "    'KNN__metric': [\"euclidean\", \"manhattan\", \"minkowski\"],\n",
        "    }\n",
        "\n",
        "# GridSearchCV\n",
        "for name, model in pipelines:\n",
        "    grid = GridSearchCV(estimator=model, param_grid=param_grid, scoring=scoring, cv=kfold)\n",
        "    grid.fit(X_train, y_train)\n",
        "    # melhor configuração\n",
        "    print(\"Sem tratamento de missings: %s - Melhor: %f usando %s\" % (name, grid.best_score_, grid.best_params_))"
      ],
      "metadata": {
        "colab": {
          "base_uri": "https://localhost:8080/"
        },
        "id": "bG_q2ec_2XQa",
        "outputId": "c7348115-e5c5-49f4-bf71-635790fa0ecb"
      },
      "execution_count": 47,
      "outputs": [
        {
          "output_type": "stream",
          "name": "stdout",
          "text": [
            "Sem tratamento de missings: knn-orig - Melhor: 0.844304 usando {'KNN__metric': 'manhattan', 'KNN__n_neighbors': 1}\n",
            "Sem tratamento de missings: knn-padr - Melhor: 0.967405 usando {'KNN__metric': 'manhattan', 'KNN__n_neighbors': 3}\n",
            "Sem tratamento de missings: knn-norm - Melhor: 0.964842 usando {'KNN__metric': 'euclidean', 'KNN__n_neighbors': 3}\n"
          ]
        }
      ]
    },
    {
      "cell_type": "markdown",
      "source": [
        "Avaliação de Resultados:\n",
        "\n",
        "- Métricas de avaliação selecionadas: Por se tratar de um tema relacionado diretamente a saúde, a acurácia (accuracy_score) foi utilizada como métrica para avaliar os modelos;\n",
        "- Treinamento e teste do modelo: No modelo final utilizou-se a LR (Logistic Regression - Regressão Logística) para treinar todo o conjunto de treinamento e testado com o conjunto de teste;\n",
        "- Overfitting: não foi identificado problemas de overfitting;\n",
        "- Comparação de resultados: Os resultados dos diferentes modelos foram comparados usando a acurácia como métrica, além de um visualização através do boxplot plotando as diferenção de desempenho entre modelos;\n"
      ],
      "metadata": {
        "id": "qLbTPsFlQpgF"
      }
    },
    {
      "cell_type": "markdown",
      "source": [
        "Melhor solução encontrada:\n",
        "\n",
        "- A melhor solução encontrada foi através da LR (Logistic Regression - Regressão Logística) nos dados padronizados, com um resultado de 98% de acurácia, sendo que no conjunto de testes o resultado superou esse número atingindo 98,25% de acurácia;\n",
        "\n",
        "Simulação e aplicação do modelo com dados simulados:\n",
        "\n",
        "- Foram também criados novos dados simulados para testar o modelo treinado. Os novos dados foram padronizados utilizando o mesmo scaler utilizado no treinamento do modelo, sendo que em seguida foi feita a predição das classes utilizando o modelo final. Os resultados das predições foram exibidos ao final como resultado [0. 1. 0. 0. 0.]"
      ],
      "metadata": {
        "id": "XjEzChMzUE-G"
      }
    },
    {
      "cell_type": "markdown",
      "source": [
        "Modelo Final"
      ],
      "metadata": {
        "id": "hkh5RFlF2sw6"
      }
    },
    {
      "cell_type": "code",
      "source": [
        "# Avaliação do modelo no conjunto de testes\n",
        "\n",
        "# Preparar modelo\n",
        "scaler = StandardScaler().fit(X_train) # ajuste do scaler com conjunto de treino\n",
        "rescaledX = scaler.transform(X_train) # aplicação da padronização com conjunto de treino\n",
        "model = LogisticRegression(max_iter=200)\n",
        "model.fit(rescaledX, y_train)\n",
        "\n",
        "# Acurácia estimada com o conjunto de teste\n",
        "rescaledTestX = scaler.transform(X_test) # padronização e aplicação no conjunto de teste\n",
        "predictions = model.predict(rescaledTestX)\n",
        "print(accuracy_score(y_test, predictions))"
      ],
      "metadata": {
        "colab": {
          "base_uri": "https://localhost:8080/"
        },
        "id": "Hok7fagM2wud",
        "outputId": "093418ee-e048-4f29-8b75-7952d6dd8389"
      },
      "execution_count": 48,
      "outputs": [
        {
          "output_type": "stream",
          "name": "stdout",
          "text": [
            "0.9824561403508771\n"
          ]
        }
      ]
    },
    {
      "cell_type": "code",
      "source": [
        "# Preparação do modelo em todo dataset\n",
        "scaler = StandardScaler().fit(X) # ajuste do scaler em todo dataset\n",
        "rescaledX = scaler.transform(X) # aplicação da padronização em todo dataset\n",
        "model.fit(rescaledX, y)"
      ],
      "metadata": {
        "colab": {
          "base_uri": "https://localhost:8080/",
          "height": 75
        },
        "id": "F2dtnDCk22Bc",
        "outputId": "cfb98cdb-7994-4fe2-fa92-f1b29fe4eec9"
      },
      "execution_count": 49,
      "outputs": [
        {
          "output_type": "execute_result",
          "data": {
            "text/plain": [
              "LogisticRegression(max_iter=200)"
            ],
            "text/html": [
              "<style>#sk-container-id-4 {color: black;background-color: white;}#sk-container-id-4 pre{padding: 0;}#sk-container-id-4 div.sk-toggleable {background-color: white;}#sk-container-id-4 label.sk-toggleable__label {cursor: pointer;display: block;width: 100%;margin-bottom: 0;padding: 0.3em;box-sizing: border-box;text-align: center;}#sk-container-id-4 label.sk-toggleable__label-arrow:before {content: \"▸\";float: left;margin-right: 0.25em;color: #696969;}#sk-container-id-4 label.sk-toggleable__label-arrow:hover:before {color: black;}#sk-container-id-4 div.sk-estimator:hover label.sk-toggleable__label-arrow:before {color: black;}#sk-container-id-4 div.sk-toggleable__content {max-height: 0;max-width: 0;overflow: hidden;text-align: left;background-color: #f0f8ff;}#sk-container-id-4 div.sk-toggleable__content pre {margin: 0.2em;color: black;border-radius: 0.25em;background-color: #f0f8ff;}#sk-container-id-4 input.sk-toggleable__control:checked~div.sk-toggleable__content {max-height: 200px;max-width: 100%;overflow: auto;}#sk-container-id-4 input.sk-toggleable__control:checked~label.sk-toggleable__label-arrow:before {content: \"▾\";}#sk-container-id-4 div.sk-estimator input.sk-toggleable__control:checked~label.sk-toggleable__label {background-color: #d4ebff;}#sk-container-id-4 div.sk-label input.sk-toggleable__control:checked~label.sk-toggleable__label {background-color: #d4ebff;}#sk-container-id-4 input.sk-hidden--visually {border: 0;clip: rect(1px 1px 1px 1px);clip: rect(1px, 1px, 1px, 1px);height: 1px;margin: -1px;overflow: hidden;padding: 0;position: absolute;width: 1px;}#sk-container-id-4 div.sk-estimator {font-family: monospace;background-color: #f0f8ff;border: 1px dotted black;border-radius: 0.25em;box-sizing: border-box;margin-bottom: 0.5em;}#sk-container-id-4 div.sk-estimator:hover {background-color: #d4ebff;}#sk-container-id-4 div.sk-parallel-item::after {content: \"\";width: 100%;border-bottom: 1px solid gray;flex-grow: 1;}#sk-container-id-4 div.sk-label:hover label.sk-toggleable__label {background-color: #d4ebff;}#sk-container-id-4 div.sk-serial::before {content: \"\";position: absolute;border-left: 1px solid gray;box-sizing: border-box;top: 0;bottom: 0;left: 50%;z-index: 0;}#sk-container-id-4 div.sk-serial {display: flex;flex-direction: column;align-items: center;background-color: white;padding-right: 0.2em;padding-left: 0.2em;position: relative;}#sk-container-id-4 div.sk-item {position: relative;z-index: 1;}#sk-container-id-4 div.sk-parallel {display: flex;align-items: stretch;justify-content: center;background-color: white;position: relative;}#sk-container-id-4 div.sk-item::before, #sk-container-id-4 div.sk-parallel-item::before {content: \"\";position: absolute;border-left: 1px solid gray;box-sizing: border-box;top: 0;bottom: 0;left: 50%;z-index: -1;}#sk-container-id-4 div.sk-parallel-item {display: flex;flex-direction: column;z-index: 1;position: relative;background-color: white;}#sk-container-id-4 div.sk-parallel-item:first-child::after {align-self: flex-end;width: 50%;}#sk-container-id-4 div.sk-parallel-item:last-child::after {align-self: flex-start;width: 50%;}#sk-container-id-4 div.sk-parallel-item:only-child::after {width: 0;}#sk-container-id-4 div.sk-dashed-wrapped {border: 1px dashed gray;margin: 0 0.4em 0.5em 0.4em;box-sizing: border-box;padding-bottom: 0.4em;background-color: white;}#sk-container-id-4 div.sk-label label {font-family: monospace;font-weight: bold;display: inline-block;line-height: 1.2em;}#sk-container-id-4 div.sk-label-container {text-align: center;}#sk-container-id-4 div.sk-container {/* jupyter's `normalize.less` sets `[hidden] { display: none; }` but bootstrap.min.css set `[hidden] { display: none !important; }` so we also need the `!important` here to be able to override the default hidden behavior on the sphinx rendered scikit-learn.org. See: https://github.com/scikit-learn/scikit-learn/issues/21755 */display: inline-block !important;position: relative;}#sk-container-id-4 div.sk-text-repr-fallback {display: none;}</style><div id=\"sk-container-id-4\" class=\"sk-top-container\"><div class=\"sk-text-repr-fallback\"><pre>LogisticRegression(max_iter=200)</pre><b>In a Jupyter environment, please rerun this cell to show the HTML representation or trust the notebook. <br />On GitHub, the HTML representation is unable to render, please try loading this page with nbviewer.org.</b></div><div class=\"sk-container\" hidden><div class=\"sk-item\"><div class=\"sk-estimator sk-toggleable\"><input class=\"sk-toggleable__control sk-hidden--visually\" id=\"sk-estimator-id-4\" type=\"checkbox\" checked><label for=\"sk-estimator-id-4\" class=\"sk-toggleable__label sk-toggleable__label-arrow\">LogisticRegression</label><div class=\"sk-toggleable__content\"><pre>LogisticRegression(max_iter=200)</pre></div></div></div></div></div>"
            ]
          },
          "metadata": {},
          "execution_count": 49
        }
      ]
    },
    {
      "cell_type": "code",
      "source": [
        "# teste com todos os dados do data set"
      ],
      "metadata": {
        "id": "rf-6AzJrZmlM"
      },
      "execution_count": 50,
      "outputs": []
    },
    {
      "cell_type": "markdown",
      "source": [
        "Simulação e aplicação do modelo com dados simulados"
      ],
      "metadata": {
        "id": "18mi9f6427xz"
      }
    },
    {
      "cell_type": "code",
      "source": [
        "# Novos dados - não sabemos a classe!\n",
        "data = {'id_2':[54879, 215875, 271088, 954876, 2256878],\n",
        "        'rad_mean':[9, 21, 25, 9, 18],\n",
        "        'tex_mean':[12, 24, 36, 24, 36],\n",
        "        'per_mean':[70, 80, 90, 70, 70],\n",
        "        'are_mean':[200, 300, 400, 250, 400],\n",
        "        'smo_mean':[0.08, 0.12, 0.15, 0.15, 0.09],\n",
        "        'com_mean':[0.09, 0.20, 0.32, 0.10, 0.10],\n",
        "        'con_mean':[0.01, 0.20, 0.35, 0.35, 0.02],\n",
        "        'con2_mean':[0.1, 0.1, 0.1, 0.2, 0.1],\n",
        "        'sym_mean':[0.1, 0.2, 0.3, 0.3, 0.3],\n",
        "        'fra_mean':[0.9, 0.2, 0.6, 0.8, 0.5],\n",
        "        'rad_se':[1.2, 0.6, 0.9, 0.7, 1.2],\n",
        "        'tex_se':[3, 3, 2, 2, 2],\n",
        "        'per_se':[2, 1, 8, 7, 7],\n",
        "        'are_se':[50, 50, 50, 50, 50],\n",
        "        'smo_se':[0.002, 0.02, 0.025, 0.003, 0.003],\n",
        "        'com_se':[0.1, 0.1, 0.1, 0.1, 0.1],\n",
        "        'con_se':[0, 0, 0, 0, 0],\n",
        "        'con2_se':[0.006, 0.03, 0.02, 0.01, 0.008],\n",
        "        'sym_se':[0.02, 0.03, 0.01, 0.03, 0.01],\n",
        "        'fra_se':[0.001, 0.001, 0.001, 0.001, 0.001],\n",
        "        'rad_worst':[10, 15, 15, 10, 15],\n",
        "        'tex_worst':[22, 40, 35, 30, 30],\n",
        "        'per_worst':[184, 99, 78, 85, 150],\n",
        "        'are_worst':[800, 750, 950, 750, 750],\n",
        "        'smo_worst':[0.22,0.08, 0.1, 0.11, 0.18],\n",
        "        'com_worst':[0.75, 0.4, 0.6, 0.6, 0.3],\n",
        "        'con_worst':[1, 1.1, 1.2, 1.1, 1],\n",
        "        'con2_worst':[0.08, 0.08, 0.22, 0.2, 0.2],\n",
        "        'sym_worst':[0.2, 0.6, 0.4, 0.5, 0.3],\n",
        "        'fra_worst':[0.1,0.2,0.2, 0.15, 0.13],\n",
        "        }\n",
        "\n",
        "atributos = ['id_2', 'rad_mean', 'tex_mean', 'per_mean', 'are_mean', 'smo_mean', 'com_mean', 'con_mean', 'con2_mean', 'sym_mean', 'fra_mean', 'rad_se', 'tex_se', 'per_se', 'are_se', 'smo_se', 'com_se', 'con_se', 'con2_se', 'sym_se', 'fra_se', 'rad_worst', 'tex_worst', 'per_worst', 'are_worst', 'smo_worst', 'com_worst', 'con_worst', 'con2_worst', 'sym_worst', 'fra_worst']\n",
        "entrada = pd.DataFrame(data, columns=atributos)\n",
        "\n",
        "array_entrada = entrada.values\n",
        "X_entrada = array_entrada[:,0:31].astype(float)\n",
        "\n",
        "# Padronização nos dados de entrada com scaler de X\n",
        "rescaledEntradaX = scaler.transform(X_entrada)\n",
        "print(rescaledEntradaX)"
      ],
      "metadata": {
        "colab": {
          "base_uri": "https://localhost:8080/"
        },
        "id": "qlv1MS5s3Gmb",
        "outputId": "7aa557f7-b172-42dd-bf13-a4bf889dd227"
      },
      "execution_count": 51,
      "outputs": [
        {
          "output_type": "stream",
          "name": "stdout",
          "text": [
            "[[-2.42709055e-01 -1.45622364e+00 -1.69635014e+00 -9.04908884e-01\n",
            "  -1.29375129e+00 -1.16428664e+00 -2.71782866e-01 -9.89323133e-01\n",
            "   1.31757865e+00 -2.96317368e+00  1.18682151e+02  2.86870098e+00\n",
            "   3.23524110e+00 -4.28725828e-01  2.12600780e-01 -1.68039443e+00\n",
            "   4.16499250e+00 -1.05750068e+00 -9.40189458e-01 -6.56607235e-02\n",
            "  -1.05717614e+00 -1.29823969e+00 -5.98812968e-01  2.28572912e+00\n",
            "  -1.41658106e-01  3.84140079e+00  3.15356694e+00  3.49169287e+00\n",
            "  -5.26935028e-01 -1.45722513e+00  8.89655662e-01]\n",
            " [-2.41420166e-01  1.95194671e+00  1.09613041e+00 -4.93006882e-01\n",
            "  -1.00934103e+00  1.68233104e+00  1.81287987e+00  1.39612138e+00\n",
            "   1.31757865e+00  6.87769722e-01  1.94498665e+01  7.03174967e-01\n",
            "   3.23524110e+00 -9.23756439e-01  2.12600780e-01  4.31984884e+00\n",
            "   4.16499250e+00 -1.05750068e+00  2.95284252e+00  1.14512431e+00\n",
            "  -1.05717614e+00 -2.62827036e-01  2.33237528e+00 -2.46067145e-01\n",
            "  -2.29553741e-01 -2.29562400e+00  9.27077936e-01  3.97144523e+00\n",
            "  -5.26935028e-01  5.01389732e+00  6.43123741e+00]\n",
            " [-2.40978146e-01  3.08800350e+00  3.88861096e+00 -8.11048797e-02\n",
            "  -7.24930766e-01  3.81729429e+00  4.08705740e+00  3.27936704e+00\n",
            "   1.31757865e+00  4.33871312e+00  7.61540288e+01  1.78593797e+00\n",
            "   1.42089721e+00  2.54145784e+00  2.12600780e-01  5.98658309e+00\n",
            "   4.16499250e+00 -1.05750068e+00  1.33074586e+00 -1.27644576e+00\n",
            "  -1.05717614e+00 -2.62827036e-01  1.51815632e+00 -8.71569752e-01\n",
            "   1.22028801e-01 -1.41890617e+00  2.19935737e+00  4.45119758e+00\n",
            "   1.60478861e+00  1.77833610e+00  6.43123741e+00]\n",
            " [-2.35503930e-01 -1.45622364e+00  1.09613041e+00 -9.04908884e-01\n",
            "  -1.15154616e+00  3.81729429e+00 -8.22680724e-02  3.27936704e+00\n",
            "   3.89697688e+00  4.33871312e+00  1.04506110e+02  1.06409597e+00\n",
            "   1.42089721e+00  2.04642723e+00  2.12600780e-01 -1.34704759e+00\n",
            "   4.16499250e+00 -1.05750068e+00 -2.91350795e-01  1.14512431e+00\n",
            "  -1.05717614e+00 -1.29823969e+00  7.03937364e-01 -6.63068883e-01\n",
            "  -2.29553741e-01 -9.80547257e-01  2.19935737e+00  3.97144523e+00\n",
            "   1.30025666e+00  3.39611671e+00  3.66044654e+00]\n",
            " [-2.25080466e-01  1.09990412e+00  3.88861096e+00 -9.04908884e-01\n",
            "  -7.24930766e-01 -4.52632222e-01 -8.22680724e-02 -8.63773422e-01\n",
            "   1.31757865e+00  4.33871312e+00  6.19779882e+01  2.86870098e+00\n",
            "   1.42089721e+00  2.04642723e+00  2.12600780e-01 -1.34704759e+00\n",
            "   4.16499250e+00 -1.05750068e+00 -6.15770127e-01 -1.27644576e+00\n",
            "  -1.05717614e+00 -2.62827036e-01  7.03937364e-01  1.27301061e+00\n",
            "  -2.29553741e-01  2.08796514e+00  2.90938220e-01  3.49169287e+00\n",
            "   1.30025666e+00  1.60555485e-01  2.55213019e+00]]\n"
          ]
        }
      ]
    },
    {
      "cell_type": "code",
      "source": [
        "# Predição das classes dos novos dados de entrada\n",
        "saidas = model.predict(rescaledEntradaX)\n",
        "print(saidas)"
      ],
      "metadata": {
        "colab": {
          "base_uri": "https://localhost:8080/"
        },
        "id": "cvp8-2yh3Py5",
        "outputId": "df83d68c-622d-47f2-873d-0c2debef274f"
      },
      "execution_count": 52,
      "outputs": [
        {
          "output_type": "stream",
          "name": "stdout",
          "text": [
            "[0. 1. 0. 0. 0.]\n"
          ]
        }
      ]
    }
  ]
}